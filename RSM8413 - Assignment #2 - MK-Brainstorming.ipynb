{
 "cells": [
  {
   "cell_type": "markdown",
   "id": "cf1430eb",
   "metadata": {},
   "source": [
    "Group 15 - Section #2\n",
    "Playing around"
   ]
  },
  {
   "cell_type": "code",
   "execution_count": 1,
   "id": "8b097310",
   "metadata": {},
   "outputs": [],
   "source": [
    "import pandas as pd\n",
    "import numpy as np\n",
    "import matplotlib.pyplot as plt\n",
    "import seaborn as sns"
   ]
  },
  {
   "cell_type": "code",
   "execution_count": 2,
   "id": "cad3b733",
   "metadata": {},
   "outputs": [],
   "source": [
    "df = pd.read_csv('COVID-19BehaviorData_CAN_USA.csv', na_values = [' '])"
   ]
  },
  {
   "cell_type": "code",
   "execution_count": 3,
   "id": "ccd667c3",
   "metadata": {},
   "outputs": [
    {
     "data": {
      "text/html": [
       "<div>\n",
       "<style scoped>\n",
       "    .dataframe tbody tr th:only-of-type {\n",
       "        vertical-align: middle;\n",
       "    }\n",
       "\n",
       "    .dataframe tbody tr th {\n",
       "        vertical-align: top;\n",
       "    }\n",
       "\n",
       "    .dataframe thead th {\n",
       "        text-align: right;\n",
       "    }\n",
       "</style>\n",
       "<table border=\"1\" class=\"dataframe\">\n",
       "  <thead>\n",
       "    <tr style=\"text-align: right;\">\n",
       "      <th></th>\n",
       "      <th>Index</th>\n",
       "      <th>RecordNo</th>\n",
       "      <th>endtime</th>\n",
       "      <th>qweek</th>\n",
       "      <th>i1_health</th>\n",
       "      <th>i2_health</th>\n",
       "      <th>i7a_health</th>\n",
       "      <th>i3_health</th>\n",
       "      <th>i4_health</th>\n",
       "      <th>i5_health_1</th>\n",
       "      <th>...</th>\n",
       "      <th>d1_health_13</th>\n",
       "      <th>d1_health_98</th>\n",
       "      <th>d1_health_99</th>\n",
       "      <th>weight</th>\n",
       "      <th>gender</th>\n",
       "      <th>age</th>\n",
       "      <th>region_state</th>\n",
       "      <th>household_size</th>\n",
       "      <th>household_children</th>\n",
       "      <th>employment_status</th>\n",
       "    </tr>\n",
       "  </thead>\n",
       "  <tbody>\n",
       "    <tr>\n",
       "      <th>0</th>\n",
       "      <td>0</td>\n",
       "      <td>CAN0</td>\n",
       "      <td>02/04/2020 08:25</td>\n",
       "      <td>week 1</td>\n",
       "      <td>0</td>\n",
       "      <td>1</td>\n",
       "      <td>1</td>\n",
       "      <td>No, I have not</td>\n",
       "      <td>No, they have not</td>\n",
       "      <td>No</td>\n",
       "      <td>...</td>\n",
       "      <td>No</td>\n",
       "      <td>No</td>\n",
       "      <td>No</td>\n",
       "      <td>1.036370</td>\n",
       "      <td>Male</td>\n",
       "      <td>73</td>\n",
       "      <td>British Columbia / Colombie Britanique</td>\n",
       "      <td>1</td>\n",
       "      <td>0</td>\n",
       "      <td>Retired</td>\n",
       "    </tr>\n",
       "    <tr>\n",
       "      <th>1</th>\n",
       "      <td>1</td>\n",
       "      <td>CAN1</td>\n",
       "      <td>02/04/2020 08:34</td>\n",
       "      <td>week 1</td>\n",
       "      <td>0</td>\n",
       "      <td>6</td>\n",
       "      <td>0</td>\n",
       "      <td>No, I have not</td>\n",
       "      <td>No, they have not</td>\n",
       "      <td>Yes</td>\n",
       "      <td>...</td>\n",
       "      <td>No</td>\n",
       "      <td>No</td>\n",
       "      <td>Yes</td>\n",
       "      <td>1.016961</td>\n",
       "      <td>Female</td>\n",
       "      <td>37</td>\n",
       "      <td>British Columbia / Colombie Britanique</td>\n",
       "      <td>1</td>\n",
       "      <td>0</td>\n",
       "      <td>Unemployed</td>\n",
       "    </tr>\n",
       "    <tr>\n",
       "      <th>2</th>\n",
       "      <td>2</td>\n",
       "      <td>CAN2</td>\n",
       "      <td>02/04/2020 08:44</td>\n",
       "      <td>week 1</td>\n",
       "      <td>6</td>\n",
       "      <td>1</td>\n",
       "      <td>0</td>\n",
       "      <td>No, I have not</td>\n",
       "      <td>No, they have not</td>\n",
       "      <td>No</td>\n",
       "      <td>...</td>\n",
       "      <td>No</td>\n",
       "      <td>No</td>\n",
       "      <td>No</td>\n",
       "      <td>1.003516</td>\n",
       "      <td>Male</td>\n",
       "      <td>25</td>\n",
       "      <td>Ontario</td>\n",
       "      <td>8 or more</td>\n",
       "      <td>2</td>\n",
       "      <td>Full time employment</td>\n",
       "    </tr>\n",
       "    <tr>\n",
       "      <th>3</th>\n",
       "      <td>3</td>\n",
       "      <td>CAN3</td>\n",
       "      <td>02/04/2020 08:44</td>\n",
       "      <td>week 1</td>\n",
       "      <td>1</td>\n",
       "      <td>1</td>\n",
       "      <td>1</td>\n",
       "      <td>No, I have not</td>\n",
       "      <td>No, they have not</td>\n",
       "      <td>No</td>\n",
       "      <td>...</td>\n",
       "      <td>No</td>\n",
       "      <td>No</td>\n",
       "      <td>No</td>\n",
       "      <td>1.002949</td>\n",
       "      <td>Male</td>\n",
       "      <td>66</td>\n",
       "      <td>Ontario</td>\n",
       "      <td>2</td>\n",
       "      <td>0</td>\n",
       "      <td>Retired</td>\n",
       "    </tr>\n",
       "    <tr>\n",
       "      <th>4</th>\n",
       "      <td>4</td>\n",
       "      <td>CAN4</td>\n",
       "      <td>02/04/2020 09:00</td>\n",
       "      <td>week 1</td>\n",
       "      <td>1</td>\n",
       "      <td>3</td>\n",
       "      <td>1</td>\n",
       "      <td>No, I have not</td>\n",
       "      <td>No, they have not</td>\n",
       "      <td>No</td>\n",
       "      <td>...</td>\n",
       "      <td>No</td>\n",
       "      <td>No</td>\n",
       "      <td>Yes</td>\n",
       "      <td>1.028216</td>\n",
       "      <td>Female</td>\n",
       "      <td>25</td>\n",
       "      <td>British Columbia / Colombie Britanique</td>\n",
       "      <td>2</td>\n",
       "      <td>0</td>\n",
       "      <td>Unemployed</td>\n",
       "    </tr>\n",
       "  </tbody>\n",
       "</table>\n",
       "<p>5 rows × 79 columns</p>\n",
       "</div>"
      ],
      "text/plain": [
       "   Index RecordNo           endtime   qweek  i1_health  i2_health  i7a_health  \\\n",
       "0      0     CAN0  02/04/2020 08:25  week 1          0          1           1   \n",
       "1      1     CAN1  02/04/2020 08:34  week 1          0          6           0   \n",
       "2      2     CAN2  02/04/2020 08:44  week 1          6          1           0   \n",
       "3      3     CAN3  02/04/2020 08:44  week 1          1          1           1   \n",
       "4      4     CAN4  02/04/2020 09:00  week 1          1          3           1   \n",
       "\n",
       "        i3_health          i4_health i5_health_1  ... d1_health_13  \\\n",
       "0  No, I have not  No, they have not          No  ...           No   \n",
       "1  No, I have not  No, they have not         Yes  ...           No   \n",
       "2  No, I have not  No, they have not          No  ...           No   \n",
       "3  No, I have not  No, they have not          No  ...           No   \n",
       "4  No, I have not  No, they have not          No  ...           No   \n",
       "\n",
       "  d1_health_98 d1_health_99    weight  gender age  \\\n",
       "0           No           No  1.036370    Male  73   \n",
       "1           No          Yes  1.016961  Female  37   \n",
       "2           No           No  1.003516    Male  25   \n",
       "3           No           No  1.002949    Male  66   \n",
       "4           No          Yes  1.028216  Female  25   \n",
       "\n",
       "                             region_state household_size household_children  \\\n",
       "0  British Columbia / Colombie Britanique              1                  0   \n",
       "1  British Columbia / Colombie Britanique              1                  0   \n",
       "2                                 Ontario      8 or more                  2   \n",
       "3                                 Ontario              2                  0   \n",
       "4  British Columbia / Colombie Britanique              2                  0   \n",
       "\n",
       "      employment_status  \n",
       "0               Retired  \n",
       "1            Unemployed  \n",
       "2  Full time employment  \n",
       "3               Retired  \n",
       "4            Unemployed  \n",
       "\n",
       "[5 rows x 79 columns]"
      ]
     },
     "execution_count": 3,
     "metadata": {},
     "output_type": "execute_result"
    }
   ],
   "source": [
    "df.head()"
   ]
  },
  {
   "cell_type": "code",
   "execution_count": 4,
   "id": "8c01221b",
   "metadata": {},
   "outputs": [
    {
     "name": "stdout",
     "output_type": "stream",
     "text": [
      "<class 'pandas.core.frame.DataFrame'>\n",
      "RangeIndex: 28825 entries, 0 to 28824\n",
      "Data columns (total 79 columns):\n",
      " #   Column              Non-Null Count  Dtype  \n",
      "---  ------              --------------  -----  \n",
      " 0   Index               28825 non-null  int64  \n",
      " 1   RecordNo            28825 non-null  object \n",
      " 2   endtime             28825 non-null  object \n",
      " 3   qweek               28825 non-null  object \n",
      " 4   i1_health           28825 non-null  int64  \n",
      " 5   i2_health           28825 non-null  int64  \n",
      " 6   i7a_health          28825 non-null  int64  \n",
      " 7   i3_health           28420 non-null  object \n",
      " 8   i4_health           27968 non-null  object \n",
      " 9   i5_health_1         28106 non-null  object \n",
      " 10  i5_health_2         28106 non-null  object \n",
      " 11  i5_health_3         28106 non-null  object \n",
      " 12  i5_health_4         28106 non-null  object \n",
      " 13  i5_health_5         28106 non-null  object \n",
      " 14  i5_health_99        28106 non-null  object \n",
      " 15  i5a_health          2606 non-null   object \n",
      " 16  i6_health           2606 non-null   object \n",
      " 17  i7b_health          2316 non-null   object \n",
      " 18  i8_health           2266 non-null   object \n",
      " 19  i9_health           26894 non-null  object \n",
      " 20  i10_health          26894 non-null  object \n",
      " 21  i11_health          26894 non-null  object \n",
      " 22  i12_health_1        28825 non-null  object \n",
      " 23  i12_health_2        28825 non-null  object \n",
      " 24  i12_health_3        28825 non-null  object \n",
      " 25  i12_health_4        28825 non-null  object \n",
      " 26  i12_health_5        28825 non-null  object \n",
      " 27  i12_health_6        28825 non-null  object \n",
      " 28  i12_health_7        28825 non-null  object \n",
      " 29  i12_health_8        28825 non-null  object \n",
      " 30  i12_health_9        12160 non-null  object \n",
      " 31  i12_health_10       10146 non-null  object \n",
      " 32  i12_health_11       28825 non-null  object \n",
      " 33  i12_health_12       28825 non-null  object \n",
      " 34  i12_health_13       28825 non-null  object \n",
      " 35  i12_health_14       28825 non-null  object \n",
      " 36  i12_health_15       28825 non-null  object \n",
      " 37  i12_health_16       28825 non-null  object \n",
      " 38  i12_health_17       28825 non-null  object \n",
      " 39  i12_health_18       28825 non-null  object \n",
      " 40  i12_health_19       28825 non-null  object \n",
      " 41  i12_health_20       28825 non-null  object \n",
      " 42  i13_health          28825 non-null  int64  \n",
      " 43  i14_health_1        12160 non-null  object \n",
      " 44  i14_health_2        12160 non-null  object \n",
      " 45  i14_health_3        12160 non-null  object \n",
      " 46  i14_health_4        12160 non-null  object \n",
      " 47  i14_health_5        12160 non-null  object \n",
      " 48  i14_health_6        12160 non-null  object \n",
      " 49  i14_health_7        12160 non-null  object \n",
      " 50  i14_health_8        12160 non-null  object \n",
      " 51  i14_health_9        12160 non-null  object \n",
      " 52  i14_health_10       12160 non-null  object \n",
      " 53  i14_health_96       12160 non-null  object \n",
      " 54  i14_health_98       12160 non-null  object \n",
      " 55  i14_health_99       12160 non-null  object \n",
      " 56  i14_health_other    28825 non-null  object \n",
      " 57  d1_health_1         26019 non-null  object \n",
      " 58  d1_health_2         26019 non-null  object \n",
      " 59  d1_health_3         26019 non-null  object \n",
      " 60  d1_health_4         26019 non-null  object \n",
      " 61  d1_health_5         26019 non-null  object \n",
      " 62  d1_health_6         26019 non-null  object \n",
      " 63  d1_health_7         26019 non-null  object \n",
      " 64  d1_health_8         26019 non-null  object \n",
      " 65  d1_health_9         26019 non-null  object \n",
      " 66  d1_health_10        26019 non-null  object \n",
      " 67  d1_health_11        26019 non-null  object \n",
      " 68  d1_health_12        26019 non-null  object \n",
      " 69  d1_health_13        26019 non-null  object \n",
      " 70  d1_health_98        26019 non-null  object \n",
      " 71  d1_health_99        26019 non-null  object \n",
      " 72  weight              28825 non-null  float64\n",
      " 73  gender              28825 non-null  object \n",
      " 74  age                 28825 non-null  int64  \n",
      " 75  region_state        28825 non-null  object \n",
      " 76  household_size      28825 non-null  object \n",
      " 77  household_children  28825 non-null  object \n",
      " 78  employment_status   28825 non-null  object \n",
      "dtypes: float64(1), int64(6), object(72)\n",
      "memory usage: 17.4+ MB\n"
     ]
    }
   ],
   "source": [
    "#check data types of each column\n",
    "df.info()"
   ]
  },
  {
   "cell_type": "code",
   "execution_count": 5,
   "id": "aa044c54",
   "metadata": {},
   "outputs": [
    {
     "data": {
      "text/plain": [
       "410954"
      ]
     },
     "execution_count": 5,
     "metadata": {},
     "output_type": "execute_result"
    }
   ],
   "source": [
    "#see how many nulls - lots of missing values\n",
    "sum(df.isna().sum(axis = 'rows'))"
   ]
  },
  {
   "cell_type": "code",
   "execution_count": 6,
   "id": "e328b345",
   "metadata": {},
   "outputs": [
    {
     "data": {
      "text/plain": [
       "0        NaN\n",
       "1         No\n",
       "2         No\n",
       "3        NaN\n",
       "4        NaN\n",
       "        ... \n",
       "28820    NaN\n",
       "28821    NaN\n",
       "28822    NaN\n",
       "28823    NaN\n",
       "28824    NaN\n",
       "Name: i8_health, Length: 28825, dtype: object"
      ]
     },
     "execution_count": 6,
     "metadata": {},
     "output_type": "execute_result"
    }
   ],
   "source": [
    "df['i8_health']"
   ]
  },
  {
   "cell_type": "code",
   "execution_count": 7,
   "id": "4e5dbe2f",
   "metadata": {},
   "outputs": [],
   "source": [
    "#get a list of all columns that are object\n",
    "#https://www.skytowner.com/explore/converting_all_object_typed_columns_to_categorical_type_in_pandas_dataframe\n",
    "df_obj_columns = df.columns[df.dtypes == \"object\"].tolist()"
   ]
  },
  {
   "cell_type": "code",
   "execution_count": 8,
   "id": "5df90cb3",
   "metadata": {},
   "outputs": [],
   "source": [
    "#convert object to categories\n",
    "for col_name in df_obj_columns:\n",
    "    if (col_name != 'RecordNo') and (col_name != 'region_state') and (col_name != 'endtime'):\n",
    "        df[col_name] = df[col_name].astype(\"category\")"
   ]
  },
  {
   "cell_type": "code",
   "execution_count": 9,
   "id": "8adf5370",
   "metadata": {},
   "outputs": [],
   "source": [
    "#convert endtime to date\n",
    "df['endtime'] = pd.to_datetime(df['endtime'])"
   ]
  },
  {
   "cell_type": "code",
   "execution_count": 10,
   "id": "8dd670ac",
   "metadata": {},
   "outputs": [],
   "source": [
    "# declaring dictionaries for types of data sets\n",
    "yes_no = {\"No\": 0, \"Yes\": 1}\n",
    "yes_no_notsure = {\"Yes\": 1, \"No\": 2, \"Not sure\": 99}\n",
    "frequency = {\"Always\": 1, \"Frequently\": 2, \"Sometimes\": 3, \"Rarely\": 4, \"Not at all\": 5}\n",
    "easily = {\"Very easy\": 1, \"Somewhat easy\": 2, \"Neither easy nor difficult\": 3, \"Somewhat difficult\": 4, \"Very difficult\": 5, \"Not sure\": 99}\n",
    "willingness = {\"Very willing\": 1, \"Somewhat willing\": 2, \"Neither willing nor unwilling\": 3, \"Somewhat unwilling\": 4, \"Very unwilling\": 5, \"Not sure\": 99}\n",
    "employment = {\"Full time employment\": 1, \"Part time employment\": 2, \"Full time student\": 3, \"Retired\": 4, \"Unemployed\": 5, \"Not working\": 6, \"Other\": 7}\n",
    "gender = {\"Male\": 1, \"Female\": 2}\n",
    "household_size = {\"1\": 1, \"2\" : 2, \"3\" : 3, \"4\": 4, \"5\": 5, \"6\": 6, \"7\": 7, \"8 or more\": 8, \"Don't know\": 9, \"Prefer not to say\": 10}\n",
    "household_children = {\"0\": 1, \"1\": 2, \"2\": 3, \"3\": 4, \"4\": 5, \"5 or more\": 6, \"Prefer not to say\": 8}"
   ]
  },
  {
   "cell_type": "code",
   "execution_count": 11,
   "id": "e874e5c1",
   "metadata": {},
   "outputs": [],
   "source": [
    "dict_list = [yes_no] + [yes_no_notsure] + [frequency] + [easily] + [willingness] + [employment] + [gender] + [household_size] + [household_children]"
   ]
  },
  {
   "cell_type": "code",
   "execution_count": 12,
   "id": "5d647c98",
   "metadata": {},
   "outputs": [
    {
     "data": {
      "text/plain": [
       "Index(['No', 'Not sure', 'Yes'], dtype='object')"
      ]
     },
     "execution_count": 12,
     "metadata": {},
     "output_type": "execute_result"
    }
   ],
   "source": [
    "df['i8_health'].cat.categories"
   ]
  },
  {
   "cell_type": "code",
   "execution_count": 13,
   "id": "a8870f3c",
   "metadata": {},
   "outputs": [],
   "source": [
    "#iterate through columns and assign the recode each column to numeric\n",
    "#get a list of category columns\n",
    "df_cat_columns = df.columns[df.dtypes == 'category'].tolist()"
   ]
  },
  {
   "cell_type": "code",
   "execution_count": 14,
   "id": "c5b5690d",
   "metadata": {},
   "outputs": [],
   "source": [
    "df2 = df.copy(deep=True)\n",
    "for col in df_cat_columns:\n",
    "    #get categories of the list\n",
    "    cat_list = df[col].cat.categories.tolist()\n",
    "    \n",
    "    # iterate through each dictionary for mapping\n",
    "    for dict_map in dict_list:\n",
    "        # set the counter equal to zero\n",
    "        count = 0\n",
    "        for cat_map in cat_list:\n",
    "            #iterate through each category for that column and check to see if it is in the dictionary\n",
    "            #if it is then increase count by 1\n",
    "            if cat_map in dict_map.keys():\n",
    "                count = count + 1\n",
    "        \n",
    "        #compare the count against the length of the dictionary, if they are the same then we found the dictionary of interest\n",
    "        if count == len(dict_map):\n",
    "            #recode the variable for that column using the dictionary\n",
    "            df2[col] = df[col].replace(list(dict_map.keys()), list(dict_map.values()))"
   ]
  },
  {
   "cell_type": "code",
   "execution_count": 15,
   "id": "58246f1b",
   "metadata": {},
   "outputs": [
    {
     "data": {
      "text/html": [
       "<div>\n",
       "<style scoped>\n",
       "    .dataframe tbody tr th:only-of-type {\n",
       "        vertical-align: middle;\n",
       "    }\n",
       "\n",
       "    .dataframe tbody tr th {\n",
       "        vertical-align: top;\n",
       "    }\n",
       "\n",
       "    .dataframe thead th {\n",
       "        text-align: right;\n",
       "    }\n",
       "</style>\n",
       "<table border=\"1\" class=\"dataframe\">\n",
       "  <thead>\n",
       "    <tr style=\"text-align: right;\">\n",
       "      <th></th>\n",
       "      <th>Index</th>\n",
       "      <th>RecordNo</th>\n",
       "      <th>endtime</th>\n",
       "      <th>qweek</th>\n",
       "      <th>i1_health</th>\n",
       "      <th>i2_health</th>\n",
       "      <th>i7a_health</th>\n",
       "      <th>i3_health</th>\n",
       "      <th>i4_health</th>\n",
       "      <th>i5_health_1</th>\n",
       "      <th>...</th>\n",
       "      <th>d1_health_13</th>\n",
       "      <th>d1_health_98</th>\n",
       "      <th>d1_health_99</th>\n",
       "      <th>weight</th>\n",
       "      <th>gender</th>\n",
       "      <th>age</th>\n",
       "      <th>region_state</th>\n",
       "      <th>household_size</th>\n",
       "      <th>household_children</th>\n",
       "      <th>employment_status</th>\n",
       "    </tr>\n",
       "  </thead>\n",
       "  <tbody>\n",
       "    <tr>\n",
       "      <th>0</th>\n",
       "      <td>0</td>\n",
       "      <td>CAN0</td>\n",
       "      <td>2020-02-04 08:25:00</td>\n",
       "      <td>week 1</td>\n",
       "      <td>0</td>\n",
       "      <td>1</td>\n",
       "      <td>1</td>\n",
       "      <td>No, I have not</td>\n",
       "      <td>No, they have not</td>\n",
       "      <td>0.0</td>\n",
       "      <td>...</td>\n",
       "      <td>0.0</td>\n",
       "      <td>0.0</td>\n",
       "      <td>0.0</td>\n",
       "      <td>1.036370</td>\n",
       "      <td>1</td>\n",
       "      <td>73</td>\n",
       "      <td>British Columbia / Colombie Britanique</td>\n",
       "      <td>1</td>\n",
       "      <td>1</td>\n",
       "      <td>4</td>\n",
       "    </tr>\n",
       "    <tr>\n",
       "      <th>1</th>\n",
       "      <td>1</td>\n",
       "      <td>CAN1</td>\n",
       "      <td>2020-02-04 08:34:00</td>\n",
       "      <td>week 1</td>\n",
       "      <td>0</td>\n",
       "      <td>6</td>\n",
       "      <td>0</td>\n",
       "      <td>No, I have not</td>\n",
       "      <td>No, they have not</td>\n",
       "      <td>1.0</td>\n",
       "      <td>...</td>\n",
       "      <td>0.0</td>\n",
       "      <td>0.0</td>\n",
       "      <td>1.0</td>\n",
       "      <td>1.016961</td>\n",
       "      <td>2</td>\n",
       "      <td>37</td>\n",
       "      <td>British Columbia / Colombie Britanique</td>\n",
       "      <td>1</td>\n",
       "      <td>1</td>\n",
       "      <td>5</td>\n",
       "    </tr>\n",
       "    <tr>\n",
       "      <th>2</th>\n",
       "      <td>2</td>\n",
       "      <td>CAN2</td>\n",
       "      <td>2020-02-04 08:44:00</td>\n",
       "      <td>week 1</td>\n",
       "      <td>6</td>\n",
       "      <td>1</td>\n",
       "      <td>0</td>\n",
       "      <td>No, I have not</td>\n",
       "      <td>No, they have not</td>\n",
       "      <td>0.0</td>\n",
       "      <td>...</td>\n",
       "      <td>0.0</td>\n",
       "      <td>0.0</td>\n",
       "      <td>0.0</td>\n",
       "      <td>1.003516</td>\n",
       "      <td>1</td>\n",
       "      <td>25</td>\n",
       "      <td>Ontario</td>\n",
       "      <td>8</td>\n",
       "      <td>3</td>\n",
       "      <td>1</td>\n",
       "    </tr>\n",
       "    <tr>\n",
       "      <th>3</th>\n",
       "      <td>3</td>\n",
       "      <td>CAN3</td>\n",
       "      <td>2020-02-04 08:44:00</td>\n",
       "      <td>week 1</td>\n",
       "      <td>1</td>\n",
       "      <td>1</td>\n",
       "      <td>1</td>\n",
       "      <td>No, I have not</td>\n",
       "      <td>No, they have not</td>\n",
       "      <td>0.0</td>\n",
       "      <td>...</td>\n",
       "      <td>0.0</td>\n",
       "      <td>0.0</td>\n",
       "      <td>0.0</td>\n",
       "      <td>1.002949</td>\n",
       "      <td>1</td>\n",
       "      <td>66</td>\n",
       "      <td>Ontario</td>\n",
       "      <td>2</td>\n",
       "      <td>1</td>\n",
       "      <td>4</td>\n",
       "    </tr>\n",
       "    <tr>\n",
       "      <th>4</th>\n",
       "      <td>4</td>\n",
       "      <td>CAN4</td>\n",
       "      <td>2020-02-04 09:00:00</td>\n",
       "      <td>week 1</td>\n",
       "      <td>1</td>\n",
       "      <td>3</td>\n",
       "      <td>1</td>\n",
       "      <td>No, I have not</td>\n",
       "      <td>No, they have not</td>\n",
       "      <td>0.0</td>\n",
       "      <td>...</td>\n",
       "      <td>0.0</td>\n",
       "      <td>0.0</td>\n",
       "      <td>1.0</td>\n",
       "      <td>1.028216</td>\n",
       "      <td>2</td>\n",
       "      <td>25</td>\n",
       "      <td>British Columbia / Colombie Britanique</td>\n",
       "      <td>2</td>\n",
       "      <td>1</td>\n",
       "      <td>5</td>\n",
       "    </tr>\n",
       "  </tbody>\n",
       "</table>\n",
       "<p>5 rows × 79 columns</p>\n",
       "</div>"
      ],
      "text/plain": [
       "   Index RecordNo             endtime   qweek  i1_health  i2_health  \\\n",
       "0      0     CAN0 2020-02-04 08:25:00  week 1          0          1   \n",
       "1      1     CAN1 2020-02-04 08:34:00  week 1          0          6   \n",
       "2      2     CAN2 2020-02-04 08:44:00  week 1          6          1   \n",
       "3      3     CAN3 2020-02-04 08:44:00  week 1          1          1   \n",
       "4      4     CAN4 2020-02-04 09:00:00  week 1          1          3   \n",
       "\n",
       "   i7a_health       i3_health          i4_health  i5_health_1  ...  \\\n",
       "0           1  No, I have not  No, they have not          0.0  ...   \n",
       "1           0  No, I have not  No, they have not          1.0  ...   \n",
       "2           0  No, I have not  No, they have not          0.0  ...   \n",
       "3           1  No, I have not  No, they have not          0.0  ...   \n",
       "4           1  No, I have not  No, they have not          0.0  ...   \n",
       "\n",
       "   d1_health_13  d1_health_98  d1_health_99    weight  gender  age  \\\n",
       "0           0.0           0.0           0.0  1.036370       1   73   \n",
       "1           0.0           0.0           1.0  1.016961       2   37   \n",
       "2           0.0           0.0           0.0  1.003516       1   25   \n",
       "3           0.0           0.0           0.0  1.002949       1   66   \n",
       "4           0.0           0.0           1.0  1.028216       2   25   \n",
       "\n",
       "                             region_state  household_size  household_children  \\\n",
       "0  British Columbia / Colombie Britanique               1                   1   \n",
       "1  British Columbia / Colombie Britanique               1                   1   \n",
       "2                                 Ontario               8                   3   \n",
       "3                                 Ontario               2                   1   \n",
       "4  British Columbia / Colombie Britanique               2                   1   \n",
       "\n",
       "   employment_status  \n",
       "0                  4  \n",
       "1                  5  \n",
       "2                  1  \n",
       "3                  4  \n",
       "4                  5  \n",
       "\n",
       "[5 rows x 79 columns]"
      ]
     },
     "execution_count": 15,
     "metadata": {},
     "output_type": "execute_result"
    }
   ],
   "source": [
    "df2.head()"
   ]
  },
  {
   "cell_type": "code",
   "execution_count": 16,
   "id": "6350f78e",
   "metadata": {},
   "outputs": [
    {
     "data": {
      "text/html": [
       "<div>\n",
       "<style scoped>\n",
       "    .dataframe tbody tr th:only-of-type {\n",
       "        vertical-align: middle;\n",
       "    }\n",
       "\n",
       "    .dataframe tbody tr th {\n",
       "        vertical-align: top;\n",
       "    }\n",
       "\n",
       "    .dataframe thead th {\n",
       "        text-align: right;\n",
       "    }\n",
       "</style>\n",
       "<table border=\"1\" class=\"dataframe\">\n",
       "  <thead>\n",
       "    <tr style=\"text-align: right;\">\n",
       "      <th></th>\n",
       "      <th>Index</th>\n",
       "      <th>RecordNo</th>\n",
       "      <th>endtime</th>\n",
       "      <th>qweek</th>\n",
       "      <th>i1_health</th>\n",
       "      <th>i2_health</th>\n",
       "      <th>i7a_health</th>\n",
       "      <th>i3_health</th>\n",
       "      <th>i4_health</th>\n",
       "      <th>i5_health_1</th>\n",
       "      <th>...</th>\n",
       "      <th>d1_health_13</th>\n",
       "      <th>d1_health_98</th>\n",
       "      <th>d1_health_99</th>\n",
       "      <th>weight</th>\n",
       "      <th>gender</th>\n",
       "      <th>age</th>\n",
       "      <th>region_state</th>\n",
       "      <th>household_size</th>\n",
       "      <th>household_children</th>\n",
       "      <th>employment_status</th>\n",
       "    </tr>\n",
       "  </thead>\n",
       "  <tbody>\n",
       "    <tr>\n",
       "      <th>0</th>\n",
       "      <td>0</td>\n",
       "      <td>CAN0</td>\n",
       "      <td>2020-02-04 08:25:00</td>\n",
       "      <td>week 1</td>\n",
       "      <td>0</td>\n",
       "      <td>1</td>\n",
       "      <td>1</td>\n",
       "      <td>No, I have not</td>\n",
       "      <td>No, they have not</td>\n",
       "      <td>No</td>\n",
       "      <td>...</td>\n",
       "      <td>No</td>\n",
       "      <td>No</td>\n",
       "      <td>No</td>\n",
       "      <td>1.036370</td>\n",
       "      <td>Male</td>\n",
       "      <td>73</td>\n",
       "      <td>British Columbia / Colombie Britanique</td>\n",
       "      <td>1</td>\n",
       "      <td>0</td>\n",
       "      <td>Retired</td>\n",
       "    </tr>\n",
       "    <tr>\n",
       "      <th>1</th>\n",
       "      <td>1</td>\n",
       "      <td>CAN1</td>\n",
       "      <td>2020-02-04 08:34:00</td>\n",
       "      <td>week 1</td>\n",
       "      <td>0</td>\n",
       "      <td>6</td>\n",
       "      <td>0</td>\n",
       "      <td>No, I have not</td>\n",
       "      <td>No, they have not</td>\n",
       "      <td>Yes</td>\n",
       "      <td>...</td>\n",
       "      <td>No</td>\n",
       "      <td>No</td>\n",
       "      <td>Yes</td>\n",
       "      <td>1.016961</td>\n",
       "      <td>Female</td>\n",
       "      <td>37</td>\n",
       "      <td>British Columbia / Colombie Britanique</td>\n",
       "      <td>1</td>\n",
       "      <td>0</td>\n",
       "      <td>Unemployed</td>\n",
       "    </tr>\n",
       "    <tr>\n",
       "      <th>2</th>\n",
       "      <td>2</td>\n",
       "      <td>CAN2</td>\n",
       "      <td>2020-02-04 08:44:00</td>\n",
       "      <td>week 1</td>\n",
       "      <td>6</td>\n",
       "      <td>1</td>\n",
       "      <td>0</td>\n",
       "      <td>No, I have not</td>\n",
       "      <td>No, they have not</td>\n",
       "      <td>No</td>\n",
       "      <td>...</td>\n",
       "      <td>No</td>\n",
       "      <td>No</td>\n",
       "      <td>No</td>\n",
       "      <td>1.003516</td>\n",
       "      <td>Male</td>\n",
       "      <td>25</td>\n",
       "      <td>Ontario</td>\n",
       "      <td>8 or more</td>\n",
       "      <td>2</td>\n",
       "      <td>Full time employment</td>\n",
       "    </tr>\n",
       "    <tr>\n",
       "      <th>3</th>\n",
       "      <td>3</td>\n",
       "      <td>CAN3</td>\n",
       "      <td>2020-02-04 08:44:00</td>\n",
       "      <td>week 1</td>\n",
       "      <td>1</td>\n",
       "      <td>1</td>\n",
       "      <td>1</td>\n",
       "      <td>No, I have not</td>\n",
       "      <td>No, they have not</td>\n",
       "      <td>No</td>\n",
       "      <td>...</td>\n",
       "      <td>No</td>\n",
       "      <td>No</td>\n",
       "      <td>No</td>\n",
       "      <td>1.002949</td>\n",
       "      <td>Male</td>\n",
       "      <td>66</td>\n",
       "      <td>Ontario</td>\n",
       "      <td>2</td>\n",
       "      <td>0</td>\n",
       "      <td>Retired</td>\n",
       "    </tr>\n",
       "    <tr>\n",
       "      <th>4</th>\n",
       "      <td>4</td>\n",
       "      <td>CAN4</td>\n",
       "      <td>2020-02-04 09:00:00</td>\n",
       "      <td>week 1</td>\n",
       "      <td>1</td>\n",
       "      <td>3</td>\n",
       "      <td>1</td>\n",
       "      <td>No, I have not</td>\n",
       "      <td>No, they have not</td>\n",
       "      <td>No</td>\n",
       "      <td>...</td>\n",
       "      <td>No</td>\n",
       "      <td>No</td>\n",
       "      <td>Yes</td>\n",
       "      <td>1.028216</td>\n",
       "      <td>Female</td>\n",
       "      <td>25</td>\n",
       "      <td>British Columbia / Colombie Britanique</td>\n",
       "      <td>2</td>\n",
       "      <td>0</td>\n",
       "      <td>Unemployed</td>\n",
       "    </tr>\n",
       "  </tbody>\n",
       "</table>\n",
       "<p>5 rows × 79 columns</p>\n",
       "</div>"
      ],
      "text/plain": [
       "   Index RecordNo             endtime   qweek  i1_health  i2_health  \\\n",
       "0      0     CAN0 2020-02-04 08:25:00  week 1          0          1   \n",
       "1      1     CAN1 2020-02-04 08:34:00  week 1          0          6   \n",
       "2      2     CAN2 2020-02-04 08:44:00  week 1          6          1   \n",
       "3      3     CAN3 2020-02-04 08:44:00  week 1          1          1   \n",
       "4      4     CAN4 2020-02-04 09:00:00  week 1          1          3   \n",
       "\n",
       "   i7a_health       i3_health          i4_health i5_health_1  ...  \\\n",
       "0           1  No, I have not  No, they have not          No  ...   \n",
       "1           0  No, I have not  No, they have not         Yes  ...   \n",
       "2           0  No, I have not  No, they have not          No  ...   \n",
       "3           1  No, I have not  No, they have not          No  ...   \n",
       "4           1  No, I have not  No, they have not          No  ...   \n",
       "\n",
       "  d1_health_13 d1_health_98 d1_health_99    weight  gender age  \\\n",
       "0           No           No           No  1.036370    Male  73   \n",
       "1           No           No          Yes  1.016961  Female  37   \n",
       "2           No           No           No  1.003516    Male  25   \n",
       "3           No           No           No  1.002949    Male  66   \n",
       "4           No           No          Yes  1.028216  Female  25   \n",
       "\n",
       "                             region_state household_size household_children  \\\n",
       "0  British Columbia / Colombie Britanique              1                  0   \n",
       "1  British Columbia / Colombie Britanique              1                  0   \n",
       "2                                 Ontario      8 or more                  2   \n",
       "3                                 Ontario              2                  0   \n",
       "4  British Columbia / Colombie Britanique              2                  0   \n",
       "\n",
       "      employment_status  \n",
       "0               Retired  \n",
       "1            Unemployed  \n",
       "2  Full time employment  \n",
       "3               Retired  \n",
       "4            Unemployed  \n",
       "\n",
       "[5 rows x 79 columns]"
      ]
     },
     "execution_count": 16,
     "metadata": {},
     "output_type": "execute_result"
    }
   ],
   "source": [
    "df.head()"
   ]
  },
  {
   "cell_type": "code",
   "execution_count": 53,
   "id": "800222a8",
   "metadata": {},
   "outputs": [
    {
     "data": {
      "text/plain": [
       "No     26800\n",
       "Yes     1306\n",
       "Name: i5_health_1, dtype: int64"
      ]
     },
     "execution_count": 53,
     "metadata": {},
     "output_type": "execute_result"
    }
   ],
   "source": [
    "# check some columns to make sure the replace happened properly\n",
    "df['i5_health_1'].value_counts()"
   ]
  },
  {
   "cell_type": "code",
   "execution_count": 54,
   "id": "6eb0f7c3",
   "metadata": {},
   "outputs": [
    {
     "data": {
      "text/plain": [
       "0.0    26800\n",
       "1.0     1306\n",
       "Name: i5_health_1, dtype: int64"
      ]
     },
     "execution_count": 54,
     "metadata": {},
     "output_type": "execute_result"
    }
   ],
   "source": [
    "df2['i5_health_1'].value_counts()"
   ]
  },
  {
   "cell_type": "code",
   "execution_count": 55,
   "id": "23fffcb0",
   "metadata": {},
   "outputs": [
    {
     "data": {
      "text/plain": [
       "No          1501\n",
       "Yes          557\n",
       "Not sure     548\n",
       "Name: i5a_health, dtype: int64"
      ]
     },
     "execution_count": 55,
     "metadata": {},
     "output_type": "execute_result"
    }
   ],
   "source": [
    "df['i5a_health'].value_counts()"
   ]
  },
  {
   "cell_type": "code",
   "execution_count": 56,
   "id": "58c80f39",
   "metadata": {},
   "outputs": [
    {
     "data": {
      "text/plain": [
       "2.0     1501\n",
       "1.0      557\n",
       "99.0     548\n",
       "Name: i5a_health, dtype: int64"
      ]
     },
     "execution_count": 56,
     "metadata": {},
     "output_type": "execute_result"
    }
   ],
   "source": [
    "df2['i5a_health'].value_counts()"
   ]
  },
  {
   "cell_type": "code",
   "execution_count": 57,
   "id": "a04cc0f0",
   "metadata": {},
   "outputs": [
    {
     "data": {
      "text/plain": [
       "Always        907\n",
       "Frequently    757\n",
       "Not at all    409\n",
       "Sometimes     365\n",
       "Rarely        168\n",
       "Name: i6_health, dtype: int64"
      ]
     },
     "execution_count": 57,
     "metadata": {},
     "output_type": "execute_result"
    }
   ],
   "source": [
    "df['i6_health'].value_counts()"
   ]
  },
  {
   "cell_type": "code",
   "execution_count": 58,
   "id": "8bf2c959",
   "metadata": {},
   "outputs": [
    {
     "data": {
      "text/plain": [
       "1.0    907\n",
       "2.0    757\n",
       "5.0    409\n",
       "3.0    365\n",
       "4.0    168\n",
       "Name: i6_health, dtype: int64"
      ]
     },
     "execution_count": 58,
     "metadata": {},
     "output_type": "execute_result"
    }
   ],
   "source": [
    "df2['i6_health'].value_counts()"
   ]
  },
  {
   "cell_type": "code",
   "execution_count": 59,
   "id": "1979ccee",
   "metadata": {},
   "outputs": [
    {
     "data": {
      "text/plain": [
       "Very easy                     11467\n",
       "Somewhat easy                  7182\n",
       "Somewhat difficult             2801\n",
       "Neither easy nor difficult     2762\n",
       "Very difficult                 1489\n",
       "Not sure                       1193\n",
       "Name: i10_health, dtype: int64"
      ]
     },
     "execution_count": 59,
     "metadata": {},
     "output_type": "execute_result"
    }
   ],
   "source": [
    "df['i10_health'].value_counts()"
   ]
  },
  {
   "cell_type": "code",
   "execution_count": 60,
   "id": "15af0ee6",
   "metadata": {},
   "outputs": [
    {
     "data": {
      "text/plain": [
       "1.0     11467\n",
       "2.0      7182\n",
       "4.0      2801\n",
       "3.0      2762\n",
       "5.0      1489\n",
       "99.0     1193\n",
       "Name: i10_health, dtype: int64"
      ]
     },
     "execution_count": 60,
     "metadata": {},
     "output_type": "execute_result"
    }
   ],
   "source": [
    "df2['i10_health'].value_counts()"
   ]
  },
  {
   "cell_type": "code",
   "execution_count": 61,
   "id": "8d7cf040",
   "metadata": {},
   "outputs": [
    {
     "data": {
      "text/plain": [
       "Female    15703\n",
       "Male      13122\n",
       "Name: gender, dtype: int64"
      ]
     },
     "execution_count": 61,
     "metadata": {},
     "output_type": "execute_result"
    }
   ],
   "source": [
    "df['gender'].value_counts()"
   ]
  },
  {
   "cell_type": "code",
   "execution_count": 62,
   "id": "d80b3d50",
   "metadata": {},
   "outputs": [
    {
     "data": {
      "text/plain": [
       "2    15703\n",
       "1    13122\n",
       "Name: gender, dtype: int64"
      ]
     },
     "execution_count": 62,
     "metadata": {},
     "output_type": "execute_result"
    }
   ],
   "source": [
    "df2['gender'].value_counts()"
   ]
  },
  {
   "cell_type": "code",
   "execution_count": 63,
   "id": "3d25d51c",
   "metadata": {},
   "outputs": [
    {
     "data": {
      "text/plain": [
       "No     11879\n",
       "Yes      281\n",
       "Name: i14_health_10, dtype: int64"
      ]
     },
     "execution_count": 63,
     "metadata": {},
     "output_type": "execute_result"
    }
   ],
   "source": [
    "df['i14_health_10'].value_counts()"
   ]
  },
  {
   "cell_type": "code",
   "execution_count": 64,
   "id": "d0b4968d",
   "metadata": {},
   "outputs": [
    {
     "data": {
      "text/plain": [
       "0.0    11879\n",
       "1.0      281\n",
       "Name: i14_health_10, dtype: int64"
      ]
     },
     "execution_count": 64,
     "metadata": {},
     "output_type": "execute_result"
    }
   ],
   "source": [
    "df2['i14_health_10'].value_counts()"
   ]
  },
  {
   "cell_type": "code",
   "execution_count": 68,
   "id": "15a57591",
   "metadata": {},
   "outputs": [
    {
     "data": {
      "text/plain": [
       "<AxesSubplot:xlabel='country', ylabel='count'>"
      ]
     },
     "execution_count": 68,
     "metadata": {},
     "output_type": "execute_result"
    },
    {
     "data": {
      "image/png": "[encoded data removed]",
      "text/plain": [
       "<Figure size 432x288 with 1 Axes>"
      ]
     },
     "metadata": {
      "needs_background": "light"
     },
     "output_type": "display_data"
    }
   ],
   "source": [
    "#good mix between Canada and US\n",
    "df2['country'] = df2['RecordNo'].str[:3]\n",
    "df['country'] = df2['RecordNo'].str[:3]\n",
    "sns.countplot(df2['country'])"
   ]
  },
  {
   "cell_type": "code",
   "execution_count": 51,
   "id": "0e0ad182",
   "metadata": {},
   "outputs": [
    {
     "data": {
      "text/plain": [
       "<AxesSubplot:xlabel='country,None'>"
      ]
     },
     "execution_count": 51,
     "metadata": {},
     "output_type": "execute_result"
    },
    {
     "data": {
      "image/png": "[encoded data removed]",
      "text/plain": [
       "<Figure size 432x288 with 1 Axes>"
      ]
     },
     "metadata": {
      "needs_background": "light"
     },
     "output_type": "display_data"
    }
   ],
   "source": [
    "df2.groupby(['country'])['qweek'].value_counts().plot(kind='bar')"
   ]
  },
  {
   "cell_type": "code",
   "execution_count": 48,
   "id": "8ff89f8e",
   "metadata": {},
   "outputs": [
    {
     "data": {
      "text/plain": [
       "<AxesSubplot:ylabel='country,None'>"
      ]
     },
     "execution_count": 48,
     "metadata": {},
     "output_type": "execute_result"
    },
    {
     "data": {
      "image/png": "[encoded data removed]",
      "text/plain": [
       "<Figure size 432x288 with 1 Axes>"
      ]
     },
     "metadata": {
      "needs_background": "light"
     },
     "output_type": "display_data"
    }
   ],
   "source": [
    "df2.groupby(['country'])['i3_health'].value_counts().plot(kind='barh')"
   ]
  },
  {
   "cell_type": "code",
   "execution_count": 102,
   "id": "18afd9da",
   "metadata": {},
   "outputs": [
    {
     "data": {
      "text/plain": [
       "No, they have not                                                  24392\n",
       "Yes, and they tested negative                                       1644\n",
       "Not sure                                                            1317\n",
       "Yes, and they have not received their results from the test yet      396\n",
       "Yes, and they tested positive                                        219\n",
       "Name: i4_health, dtype: int64"
      ]
     },
     "execution_count": 102,
     "metadata": {},
     "output_type": "execute_result"
    },
    {
     "data": {
      "image/png": "[encoded data removed]",
      "text/plain": [
       "<Figure size 432x288 with 1 Axes>"
      ]
     },
     "metadata": {
      "needs_background": "light"
     },
     "output_type": "display_data"
    }
   ],
   "source": [
    "sns.countplot(df2['i4_health'])\n",
    "plt.xticks(rotation = 90)\n",
    "df2['i4_health'].value_counts()"
   ]
  },
  {
   "cell_type": "code",
   "execution_count": 103,
   "id": "2d21539f",
   "metadata": {},
   "outputs": [
    {
     "data": {
      "text/plain": [
       "No, I have not                                               26284\n",
       "Yes, and I tested negative                                    1515\n",
       "Yes, and I have not received my results from the test yet      341\n",
       "Yes, and I tested positive                                     280\n",
       "Name: i3_health, dtype: int64"
      ]
     },
     "execution_count": 103,
     "metadata": {},
     "output_type": "execute_result"
    },
    {
     "data": {
      "image/png": "[encoded data removed]",
      "text/plain": [
       "<Figure size 432x288 with 1 Axes>"
      ]
     },
     "metadata": {
      "needs_background": "light"
     },
     "output_type": "display_data"
    }
   ],
   "source": [
    "sns.countplot(df2['i3_health'])\n",
    "plt.xticks(rotation = 90)\n",
    "df2['i3_health'].value_counts()"
   ]
  },
  {
   "cell_type": "code",
   "execution_count": 69,
   "id": "70b0ebe5",
   "metadata": {},
   "outputs": [
    {
     "data": {
      "text/plain": [
       "country          \n",
       "CAN      No          586\n",
       "         Not sure    197\n",
       "         Yes         113\n",
       "USA      No          915\n",
       "         Yes         444\n",
       "         Not sure    351\n",
       "Name: i5a_health, dtype: int64"
      ]
     },
     "execution_count": 69,
     "metadata": {},
     "output_type": "execute_result"
    }
   ],
   "source": [
    "#whether someone has been in contact with someone with covid\n",
    "df.groupby(['country'])['i5a_health'].value_counts()"
   ]
  },
  {
   "cell_type": "code",
   "execution_count": 72,
   "id": "8f713bd7",
   "metadata": {},
   "outputs": [],
   "source": [
    "df['state_province'] = df['region_state'].str.split('/').str[0]\n",
    "df2['state_province'] = df2['region_state'].str.split('/').str[0]"
   ]
  },
  {
   "cell_type": "code",
   "execution_count": 77,
   "id": "d2bfe3a9",
   "metadata": {},
   "outputs": [
    {
     "data": {
      "text/plain": [
       "<AxesSubplot:>"
      ]
     },
     "execution_count": 77,
     "metadata": {},
     "output_type": "execute_result"
    },
    {
     "data": {
      "image/png": "[encoded data removed]",
      "text/plain": [
       "<Figure size 432x288 with 1 Axes>"
      ]
     },
     "metadata": {
      "needs_background": "light"
     },
     "output_type": "display_data"
    }
   ],
   "source": [
    "# there are provinces / states that are more represented than others - each of these provinces states would have different\n",
    "# covid numbers\n",
    "df['state_province'].value_counts().head(15).plot(kind = 'barh')"
   ]
  },
  {
   "cell_type": "code",
   "execution_count": 78,
   "id": "ec721c2d",
   "metadata": {
    "scrolled": true
   },
   "outputs": [
    {
     "data": {
      "text/plain": [
       "<AxesSubplot:>"
      ]
     },
     "execution_count": 78,
     "metadata": {},
     "output_type": "execute_result"
    },
    {
     "data": {
      "image/png": "[encoded data removed]",
      "text/plain": [
       "<Figure size 432x288 with 1 Axes>"
      ]
     },
     "metadata": {
      "needs_background": "light"
     },
     "output_type": "display_data"
    }
   ],
   "source": [
    "df['state_province'].value_counts().tail(10).plot(kind = 'barh')"
   ]
  },
  {
   "cell_type": "code",
   "execution_count": 85,
   "id": "b71f8786",
   "metadata": {},
   "outputs": [
    {
     "data": {
      "text/plain": [
       "country\n",
       "CAN    AxesSubplot(0.125,0.125;0.775x0.755)\n",
       "USA    AxesSubplot(0.125,0.125;0.775x0.755)\n",
       "Name: age, dtype: object"
      ]
     },
     "execution_count": 85,
     "metadata": {},
     "output_type": "execute_result"
    },
    {
     "data": {
      "image/png": "[encoded data removed]",
      "text/plain": [
       "<Figure size 432x288 with 1 Axes>"
      ]
     },
     "metadata": {
      "needs_background": "light"
     },
     "output_type": "display_data"
    }
   ],
   "source": [
    "#no one under the age of 20, not too much difference in age categories, but more older people took this questionnaire\n",
    "df.groupby(['country'])['age'].plot(kind='hist', alpha = 0.1, legend = True, edgecolor = 'black')"
   ]
  },
  {
   "cell_type": "code",
   "execution_count": 87,
   "id": "b4531556",
   "metadata": {},
   "outputs": [
    {
     "data": {
      "text/plain": [
       "No     26800\n",
       "Yes     1306\n",
       "Name: i5_health_1, dtype: int64"
      ]
     },
     "execution_count": 87,
     "metadata": {},
     "output_type": "execute_result"
    },
    {
     "data": {
      "image/png": "[encoded data removed]",
      "text/plain": [
       "<Figure size 432x288 with 1 Axes>"
      ]
     },
     "metadata": {
      "needs_background": "light"
     },
     "output_type": "display_data"
    }
   ],
   "source": [
    "# do you have a cough\n",
    "sns.countplot(df['i5_health_1'])\n",
    "df['i5_health_1'].value_counts()"
   ]
  },
  {
   "cell_type": "code",
   "execution_count": 88,
   "id": "d26d5e4e",
   "metadata": {},
   "outputs": [
    {
     "data": {
      "text/plain": [
       "No     27647\n",
       "Yes      459\n",
       "Name: i5_health_2, dtype: int64"
      ]
     },
     "execution_count": 88,
     "metadata": {},
     "output_type": "execute_result"
    },
    {
     "data": {
      "image/png": "[encoded data removed]",
      "text/plain": [
       "<Figure size 432x288 with 1 Axes>"
      ]
     },
     "metadata": {
      "needs_background": "light"
     },
     "output_type": "display_data"
    }
   ],
   "source": [
    "# do you have a fever\n",
    "sns.countplot(df['i5_health_2'])\n",
    "df['i5_health_2'].value_counts()"
   ]
  },
  {
   "cell_type": "code",
   "execution_count": 89,
   "id": "36982e57",
   "metadata": {},
   "outputs": [
    {
     "data": {
      "text/plain": [
       "No     27650\n",
       "Yes      456\n",
       "Name: i5_health_3, dtype: int64"
      ]
     },
     "execution_count": 89,
     "metadata": {},
     "output_type": "execute_result"
    },
    {
     "data": {
      "image/png": "[encoded data removed]",
      "text/plain": [
       "<Figure size 432x288 with 1 Axes>"
      ]
     },
     "metadata": {
      "needs_background": "light"
     },
     "output_type": "display_data"
    }
   ],
   "source": [
    "# do you have loss of sense of smell\n",
    "sns.countplot(df['i5_health_3'])\n",
    "df['i5_health_3'].value_counts()"
   ]
  },
  {
   "cell_type": "code",
   "execution_count": 90,
   "id": "ae56def6",
   "metadata": {},
   "outputs": [
    {
     "data": {
      "text/plain": [
       "No     27679\n",
       "Yes      427\n",
       "Name: i5_health_4, dtype: int64"
      ]
     },
     "execution_count": 90,
     "metadata": {},
     "output_type": "execute_result"
    },
    {
     "data": {
      "image/png": "[encoded data removed]",
      "text/plain": [
       "<Figure size 432x288 with 1 Axes>"
      ]
     },
     "metadata": {
      "needs_background": "light"
     },
     "output_type": "display_data"
    }
   ],
   "source": [
    "# do you have loss of taste\n",
    "sns.countplot(df['i5_health_4'])\n",
    "df['i5_health_4'].value_counts()"
   ]
  },
  {
   "cell_type": "code",
   "execution_count": 91,
   "id": "0bbf8872",
   "metadata": {},
   "outputs": [
    {
     "data": {
      "text/plain": [
       "No     27192\n",
       "Yes      914\n",
       "Name: i5_health_5, dtype: int64"
      ]
     },
     "execution_count": 91,
     "metadata": {},
     "output_type": "execute_result"
    },
    {
     "data": {
      "image/png": "[encoded data removed]",
      "text/plain": [
       "<Figure size 432x288 with 1 Axes>"
      ]
     },
     "metadata": {
      "needs_background": "light"
     },
     "output_type": "display_data"
    }
   ],
   "source": [
    "#do you have shortness of breath\n",
    "sns.countplot(df['i5_health_5'])\n",
    "df['i5_health_5'].value_counts()"
   ]
  },
  {
   "cell_type": "code",
   "execution_count": 92,
   "id": "b2b99eb4",
   "metadata": {},
   "outputs": [
    {
     "data": {
      "text/plain": [
       "Yes    25502\n",
       "No      2604\n",
       "Name: i5_health_99, dtype: int64"
      ]
     },
     "execution_count": 92,
     "metadata": {},
     "output_type": "execute_result"
    },
    {
     "data": {
      "image/png": "[encoded data removed]",
      "text/plain": [
       "<Figure size 432x288 with 1 Axes>"
      ]
     },
     "metadata": {
      "needs_background": "light"
     },
     "output_type": "display_data"
    }
   ],
   "source": [
    "# no symptoms\n",
    "sns.countplot(df['i5_health_99'])\n",
    "df['i5_health_99'].value_counts()"
   ]
  },
  {
   "cell_type": "code",
   "execution_count": 97,
   "id": "dd8c8462",
   "metadata": {},
   "outputs": [
    {
     "data": {
      "text/plain": [
       "Very easy                     11467\n",
       "Somewhat easy                  7182\n",
       "Somewhat difficult             2801\n",
       "Neither easy nor difficult     2762\n",
       "Very difficult                 1489\n",
       "Not sure                       1193\n",
       "Name: i10_health, dtype: int64"
      ]
     },
     "execution_count": 97,
     "metadata": {},
     "output_type": "execute_result"
    },
    {
     "data": {
      "image/png": "[encoded data removed]",
      "text/plain": [
       "<Figure size 432x288 with 1 Axes>"
      ]
     },
     "metadata": {
      "needs_background": "light"
     },
     "output_type": "display_data"
    }
   ],
   "source": [
    "#how easy would it be to self-isolate\n",
    "sns.countplot(df['i10_health'])\n",
    "plt.xticks(rotation = 90)\n",
    "df['i10_health'].value_counts()"
   ]
  },
  {
   "cell_type": "code",
   "execution_count": 98,
   "id": "789632b8",
   "metadata": {},
   "outputs": [
    {
     "data": {
      "text/plain": [
       "Very willing                     17764\n",
       "Somewhat willing                  4571\n",
       "Neither willing nor unwilling     1910\n",
       "Not sure                          1210\n",
       "Somewhat unwilling                 807\n",
       "Very unwilling                     632\n",
       "Name: i11_health, dtype: int64"
      ]
     },
     "execution_count": 98,
     "metadata": {},
     "output_type": "execute_result"
    },
    {
     "data": {
      "image/png": "[encoded data removed]",
      "text/plain": [
       "<Figure size 432x288 with 1 Axes>"
      ]
     },
     "metadata": {
      "needs_background": "light"
     },
     "output_type": "display_data"
    }
   ],
   "source": [
    "#how willing with you be to self-isolate\n",
    "sns.countplot(df['i11_health'])\n",
    "plt.xticks(rotation = 90)\n",
    "df['i11_health'].value_counts()"
   ]
  },
  {
   "cell_type": "code",
   "execution_count": null,
   "id": "f57b2850",
   "metadata": {},
   "outputs": [],
   "source": []
  }
 ],
 "metadata": {
  "kernelspec": {
   "display_name": "Python 3 (ipykernel)",
   "language": "python",
   "name": "python3"
  },
  "language_info": {
   "codemirror_mode": {
    "name": "ipython",
    "version": 3
   },
   "file_extension": ".py",
   "mimetype": "text/x-python",
   "name": "python",
   "nbconvert_exporter": "python",
   "pygments_lexer": "ipython3",
   "version": "3.9.7"
  }
 },
 "nbformat": 4,
 "nbformat_minor": 5
}

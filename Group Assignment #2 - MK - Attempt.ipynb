{
 "cells": [
  {
   "cell_type": "code",
   "execution_count": 2,
   "id": "aec0572a",
   "metadata": {},
   "outputs": [],
   "source": [
    "import pandas as pd\n",
    "import numpy as np\n",
    "import matplotlib.pyplot as plt\n",
    "import seaborn as sns"
   ]
  },
  {
   "cell_type": "code",
   "execution_count": 3,
   "id": "aa307bb8",
   "metadata": {},
   "outputs": [],
   "source": [
    "import graphviz"
   ]
  },
  {
   "cell_type": "code",
   "execution_count": 4,
   "id": "54d00b1c",
   "metadata": {},
   "outputs": [],
   "source": [
    "from sklearn.tree import DecisionTreeClassifier, export_graphviz"
   ]
  },
  {
   "cell_type": "code",
   "execution_count": 5,
   "id": "f7ea7966",
   "metadata": {},
   "outputs": [],
   "source": [
    "from sklearn.model_selection import train_test_split, cross_val_score, GridSearchCV"
   ]
  },
  {
   "cell_type": "code",
   "execution_count": 6,
   "id": "702c0621",
   "metadata": {},
   "outputs": [],
   "source": [
    "from sklearn.metrics import accuracy_score"
   ]
  },
  {
   "cell_type": "code",
   "execution_count": 7,
   "id": "25fb8ada",
   "metadata": {},
   "outputs": [],
   "source": [
    "from dmba import classificationSummary"
   ]
  },
  {
   "cell_type": "code",
   "execution_count": 8,
   "id": "8bf068ca",
   "metadata": {},
   "outputs": [],
   "source": [
    "from sklearn import tree"
   ]
  },
  {
   "cell_type": "code",
   "execution_count": 9,
   "id": "ea21e034",
   "metadata": {},
   "outputs": [],
   "source": [
    "xlsx = pd.ExcelFile('ebayAuctions.xlsx')"
   ]
  },
  {
   "cell_type": "code",
   "execution_count": 10,
   "id": "75b94720",
   "metadata": {},
   "outputs": [],
   "source": [
    "ebay_df = pd.read_excel(xlsx, 'eBay auctions')"
   ]
  },
  {
   "cell_type": "markdown",
   "id": "2042ad1a",
   "metadata": {},
   "source": [
    "Data Cleaning / Exploratory Data Analysis"
   ]
  },
  {
   "cell_type": "code",
   "execution_count": 11,
   "id": "6c010b06",
   "metadata": {},
   "outputs": [
    {
     "data": {
      "text/html": [
       "<div>\n",
       "<style scoped>\n",
       "    .dataframe tbody tr th:only-of-type {\n",
       "        vertical-align: middle;\n",
       "    }\n",
       "\n",
       "    .dataframe tbody tr th {\n",
       "        vertical-align: top;\n",
       "    }\n",
       "\n",
       "    .dataframe thead th {\n",
       "        text-align: right;\n",
       "    }\n",
       "</style>\n",
       "<table border=\"1\" class=\"dataframe\">\n",
       "  <thead>\n",
       "    <tr style=\"text-align: right;\">\n",
       "      <th></th>\n",
       "      <th>Category</th>\n",
       "      <th>Currency</th>\n",
       "      <th>sellerRating</th>\n",
       "      <th>Duration</th>\n",
       "      <th>endDay</th>\n",
       "      <th>ClosePrice</th>\n",
       "      <th>OpenPrice</th>\n",
       "      <th>Competitive?</th>\n",
       "    </tr>\n",
       "  </thead>\n",
       "  <tbody>\n",
       "    <tr>\n",
       "      <th>0</th>\n",
       "      <td>Music/Movie/Game</td>\n",
       "      <td>US</td>\n",
       "      <td>3249</td>\n",
       "      <td>5</td>\n",
       "      <td>Mon</td>\n",
       "      <td>0.01</td>\n",
       "      <td>0.01</td>\n",
       "      <td>0</td>\n",
       "    </tr>\n",
       "    <tr>\n",
       "      <th>1</th>\n",
       "      <td>Music/Movie/Game</td>\n",
       "      <td>US</td>\n",
       "      <td>3249</td>\n",
       "      <td>5</td>\n",
       "      <td>Mon</td>\n",
       "      <td>0.01</td>\n",
       "      <td>0.01</td>\n",
       "      <td>0</td>\n",
       "    </tr>\n",
       "    <tr>\n",
       "      <th>2</th>\n",
       "      <td>Music/Movie/Game</td>\n",
       "      <td>US</td>\n",
       "      <td>3249</td>\n",
       "      <td>5</td>\n",
       "      <td>Mon</td>\n",
       "      <td>0.01</td>\n",
       "      <td>0.01</td>\n",
       "      <td>0</td>\n",
       "    </tr>\n",
       "    <tr>\n",
       "      <th>3</th>\n",
       "      <td>Music/Movie/Game</td>\n",
       "      <td>US</td>\n",
       "      <td>3249</td>\n",
       "      <td>5</td>\n",
       "      <td>Mon</td>\n",
       "      <td>0.01</td>\n",
       "      <td>0.01</td>\n",
       "      <td>0</td>\n",
       "    </tr>\n",
       "    <tr>\n",
       "      <th>4</th>\n",
       "      <td>Music/Movie/Game</td>\n",
       "      <td>US</td>\n",
       "      <td>3249</td>\n",
       "      <td>5</td>\n",
       "      <td>Mon</td>\n",
       "      <td>0.01</td>\n",
       "      <td>0.01</td>\n",
       "      <td>0</td>\n",
       "    </tr>\n",
       "  </tbody>\n",
       "</table>\n",
       "</div>"
      ],
      "text/plain": [
       "           Category Currency  sellerRating  Duration endDay  ClosePrice  \\\n",
       "0  Music/Movie/Game       US          3249         5    Mon        0.01   \n",
       "1  Music/Movie/Game       US          3249         5    Mon        0.01   \n",
       "2  Music/Movie/Game       US          3249         5    Mon        0.01   \n",
       "3  Music/Movie/Game       US          3249         5    Mon        0.01   \n",
       "4  Music/Movie/Game       US          3249         5    Mon        0.01   \n",
       "\n",
       "   OpenPrice  Competitive?  \n",
       "0       0.01             0  \n",
       "1       0.01             0  \n",
       "2       0.01             0  \n",
       "3       0.01             0  \n",
       "4       0.01             0  "
      ]
     },
     "execution_count": 11,
     "metadata": {},
     "output_type": "execute_result"
    }
   ],
   "source": [
    "ebay_df.head()"
   ]
  },
  {
   "cell_type": "code",
   "execution_count": 12,
   "id": "b2192ef7",
   "metadata": {},
   "outputs": [
    {
     "data": {
      "text/plain": [
       "1    1066\n",
       "0     906\n",
       "Name: Competitive?, dtype: int64"
      ]
     },
     "execution_count": 12,
     "metadata": {},
     "output_type": "execute_result"
    }
   ],
   "source": [
    "#pretty well-balanced data set\n",
    "ebay_df['Competitive?'].value_counts()"
   ]
  },
  {
   "cell_type": "code",
   "execution_count": 13,
   "id": "0c002f10",
   "metadata": {},
   "outputs": [
    {
     "data": {
      "text/plain": [
       "Music/Movie/Game        403\n",
       "Collectibles            239\n",
       "Toys/Hobbies            234\n",
       "Automotive              178\n",
       "Antique/Art/Craft       177\n",
       "SportingGoods           124\n",
       "Clothing/Accessories    119\n",
       "Home/Garden             102\n",
       "Jewelry                  82\n",
       "Health/Beauty            64\n",
       "Electronics              55\n",
       "Books                    54\n",
       "Coins/Stamps             37\n",
       "Computer                 36\n",
       "Pottery/Glass            20\n",
       "Business/Industrial      18\n",
       "EverythingElse           17\n",
       "Photography              13\n",
       "Name: Category, dtype: int64"
      ]
     },
     "execution_count": 13,
     "metadata": {},
     "output_type": "execute_result"
    }
   ],
   "source": [
    "#most auctions are related to music/movie/game or collectibles or toys/hobbies\n",
    "ebay_df['Category'].value_counts()"
   ]
  },
  {
   "cell_type": "code",
   "execution_count": 14,
   "id": "7a29e7a2",
   "metadata": {},
   "outputs": [
    {
     "data": {
      "text/plain": [
       "US     1292\n",
       "EUR     533\n",
       "GBP     147\n",
       "Name: Currency, dtype: int64"
      ]
     },
     "execution_count": 14,
     "metadata": {},
     "output_type": "execute_result"
    }
   ],
   "source": [
    "#majority are US\n",
    "ebay_df['Currency'].value_counts()"
   ]
  },
  {
   "cell_type": "code",
   "execution_count": 15,
   "id": "100f3c67",
   "metadata": {},
   "outputs": [
    {
     "name": "stdout",
     "output_type": "stream",
     "text": [
      "<class 'pandas.core.frame.DataFrame'>\n",
      "RangeIndex: 1972 entries, 0 to 1971\n",
      "Data columns (total 8 columns):\n",
      " #   Column        Non-Null Count  Dtype  \n",
      "---  ------        --------------  -----  \n",
      " 0   Category      1972 non-null   object \n",
      " 1   Currency      1972 non-null   object \n",
      " 2   sellerRating  1972 non-null   int64  \n",
      " 3   Duration      1972 non-null   int64  \n",
      " 4   endDay        1972 non-null   object \n",
      " 5   ClosePrice    1972 non-null   float64\n",
      " 6   OpenPrice     1972 non-null   float64\n",
      " 7   Competitive?  1972 non-null   int64  \n",
      "dtypes: float64(2), int64(3), object(3)\n",
      "memory usage: 123.4+ KB\n"
     ]
    }
   ],
   "source": [
    "# there are no null values\n",
    "ebay_df.info()"
   ]
  },
  {
   "cell_type": "code",
   "execution_count": 16,
   "id": "ec13ad89",
   "metadata": {},
   "outputs": [
    {
     "data": {
      "text/plain": [
       "Category        0\n",
       "Currency        0\n",
       "sellerRating    0\n",
       "Duration        0\n",
       "endDay          0\n",
       "ClosePrice      0\n",
       "OpenPrice       0\n",
       "Competitive?    0\n",
       "dtype: int64"
      ]
     },
     "execution_count": 16,
     "metadata": {},
     "output_type": "execute_result"
    }
   ],
   "source": [
    "#confirming that there are no null values\n",
    "ebay_df.isna().sum(axis = 'rows')"
   ]
  },
  {
   "cell_type": "code",
   "execution_count": 17,
   "id": "511f26fb",
   "metadata": {},
   "outputs": [
    {
     "data": {
      "text/plain": [
       "346"
      ]
     },
     "execution_count": 17,
     "metadata": {},
     "output_type": "execute_result"
    }
   ],
   "source": [
    "#quite a few duplicates - they could be multiple of the same item being put on ebay\n",
    "sum(ebay_df.duplicated())"
   ]
  },
  {
   "cell_type": "code",
   "execution_count": 18,
   "id": "763a0922",
   "metadata": {},
   "outputs": [],
   "source": [
    "df_duplicate = ebay_df.duplicated()"
   ]
  },
  {
   "cell_type": "code",
   "execution_count": 19,
   "id": "cd738a66",
   "metadata": {},
   "outputs": [
    {
     "data": {
      "text/plain": [
       "Music/Movie/Game        117\n",
       "Toys/Hobbies             56\n",
       "Collectibles             41\n",
       "Antique/Art/Craft        32\n",
       "Automotive               24\n",
       "Jewelry                  16\n",
       "Health/Beauty            15\n",
       "Clothing/Accessories     14\n",
       "Home/Garden               8\n",
       "Pottery/Glass             6\n",
       "SportingGoods             4\n",
       "Coins/Stamps              4\n",
       "Electronics               3\n",
       "EverythingElse            2\n",
       "Books                     2\n",
       "Business/Industrial       1\n",
       "Computer                  1\n",
       "Name: Category, dtype: int64"
      ]
     },
     "execution_count": 19,
     "metadata": {},
     "output_type": "execute_result"
    }
   ],
   "source": [
    "#most of duplicates, if they are duplicates, are in music/movie/game, toys/hobbies categories\n",
    "ebay_df[df_duplicate]['Category'].value_counts()"
   ]
  },
  {
   "cell_type": "code",
   "execution_count": 20,
   "id": "aae59c26",
   "metadata": {},
   "outputs": [],
   "source": [
    "#hypothetically if we were to drop the duplicates, although they could be meaningful since a person could post multiple\n",
    "#auctions for the same item on the same day\n",
    "ebay_df_no_duplicates = ebay_df.drop_duplicates(keep = 'first')"
   ]
  },
  {
   "cell_type": "code",
   "execution_count": 21,
   "id": "4d139002",
   "metadata": {},
   "outputs": [
    {
     "data": {
      "text/html": [
       "<div>\n",
       "<style scoped>\n",
       "    .dataframe tbody tr th:only-of-type {\n",
       "        vertical-align: middle;\n",
       "    }\n",
       "\n",
       "    .dataframe tbody tr th {\n",
       "        vertical-align: top;\n",
       "    }\n",
       "\n",
       "    .dataframe thead th {\n",
       "        text-align: right;\n",
       "    }\n",
       "</style>\n",
       "<table border=\"1\" class=\"dataframe\">\n",
       "  <thead>\n",
       "    <tr style=\"text-align: right;\">\n",
       "      <th></th>\n",
       "      <th>Category</th>\n",
       "      <th>Currency</th>\n",
       "      <th>sellerRating</th>\n",
       "      <th>Duration</th>\n",
       "      <th>endDay</th>\n",
       "      <th>ClosePrice</th>\n",
       "      <th>OpenPrice</th>\n",
       "      <th>Competitive?</th>\n",
       "    </tr>\n",
       "  </thead>\n",
       "  <tbody>\n",
       "    <tr>\n",
       "      <th>0</th>\n",
       "      <td>Music/Movie/Game</td>\n",
       "      <td>US</td>\n",
       "      <td>3249</td>\n",
       "      <td>5</td>\n",
       "      <td>Mon</td>\n",
       "      <td>0.01</td>\n",
       "      <td>0.01</td>\n",
       "      <td>0</td>\n",
       "    </tr>\n",
       "    <tr>\n",
       "      <th>16</th>\n",
       "      <td>Automotive</td>\n",
       "      <td>US</td>\n",
       "      <td>3115</td>\n",
       "      <td>7</td>\n",
       "      <td>Tue</td>\n",
       "      <td>0.01</td>\n",
       "      <td>0.01</td>\n",
       "      <td>0</td>\n",
       "    </tr>\n",
       "    <tr>\n",
       "      <th>20</th>\n",
       "      <td>Automotive</td>\n",
       "      <td>US</td>\n",
       "      <td>3115</td>\n",
       "      <td>7</td>\n",
       "      <td>Tue</td>\n",
       "      <td>0.01</td>\n",
       "      <td>0.01</td>\n",
       "      <td>1</td>\n",
       "    </tr>\n",
       "    <tr>\n",
       "      <th>22</th>\n",
       "      <td>Music/Movie/Game</td>\n",
       "      <td>US</td>\n",
       "      <td>37727</td>\n",
       "      <td>7</td>\n",
       "      <td>Mon</td>\n",
       "      <td>0.01</td>\n",
       "      <td>0.01</td>\n",
       "      <td>0</td>\n",
       "    </tr>\n",
       "    <tr>\n",
       "      <th>23</th>\n",
       "      <td>Music/Movie/Game</td>\n",
       "      <td>US</td>\n",
       "      <td>3249</td>\n",
       "      <td>5</td>\n",
       "      <td>Mon</td>\n",
       "      <td>0.06</td>\n",
       "      <td>0.01</td>\n",
       "      <td>1</td>\n",
       "    </tr>\n",
       "  </tbody>\n",
       "</table>\n",
       "</div>"
      ],
      "text/plain": [
       "            Category Currency  sellerRating  Duration endDay  ClosePrice  \\\n",
       "0   Music/Movie/Game       US          3249         5    Mon        0.01   \n",
       "16        Automotive       US          3115         7    Tue        0.01   \n",
       "20        Automotive       US          3115         7    Tue        0.01   \n",
       "22  Music/Movie/Game       US         37727         7    Mon        0.01   \n",
       "23  Music/Movie/Game       US          3249         5    Mon        0.06   \n",
       "\n",
       "    OpenPrice  Competitive?  \n",
       "0        0.01             0  \n",
       "16       0.01             0  \n",
       "20       0.01             1  \n",
       "22       0.01             0  \n",
       "23       0.01             1  "
      ]
     },
     "execution_count": 21,
     "metadata": {},
     "output_type": "execute_result"
    }
   ],
   "source": [
    "ebay_df_no_duplicates.head()"
   ]
  },
  {
   "cell_type": "code",
   "execution_count": 22,
   "id": "e76e780c",
   "metadata": {},
   "outputs": [
    {
     "name": "stdout",
     "output_type": "stream",
     "text": [
      "<class 'pandas.core.frame.DataFrame'>\n",
      "Int64Index: 1626 entries, 0 to 1971\n",
      "Data columns (total 8 columns):\n",
      " #   Column        Non-Null Count  Dtype  \n",
      "---  ------        --------------  -----  \n",
      " 0   Category      1626 non-null   object \n",
      " 1   Currency      1626 non-null   object \n",
      " 2   sellerRating  1626 non-null   int64  \n",
      " 3   Duration      1626 non-null   int64  \n",
      " 4   endDay        1626 non-null   object \n",
      " 5   ClosePrice    1626 non-null   float64\n",
      " 6   OpenPrice     1626 non-null   float64\n",
      " 7   Competitive?  1626 non-null   int64  \n",
      "dtypes: float64(2), int64(3), object(3)\n",
      "memory usage: 114.3+ KB\n"
     ]
    }
   ],
   "source": [
    "ebay_df_no_duplicates.info()"
   ]
  },
  {
   "cell_type": "code",
   "execution_count": 23,
   "id": "257b8640",
   "metadata": {},
   "outputs": [
    {
     "data": {
      "text/plain": [
       "1    999\n",
       "0    627\n",
       "Name: Competitive?, dtype: int64"
      ]
     },
     "execution_count": 23,
     "metadata": {},
     "output_type": "execute_result"
    }
   ],
   "source": [
    "#still a decently balanced data set but not as balanced\n",
    "ebay_df_no_duplicates['Competitive?'].value_counts()"
   ]
  },
  {
   "cell_type": "code",
   "execution_count": 24,
   "id": "3a563ce0",
   "metadata": {},
   "outputs": [
    {
     "data": {
      "text/plain": [
       "(array([ 0,  1,  2,  3,  4,  5,  6,  7,  8,  9, 10, 11, 12, 13, 14, 15, 16,\n",
       "        17]),\n",
       " [Text(0, 0, 'Music/Movie/Game'),\n",
       "  Text(1, 0, 'Automotive'),\n",
       "  Text(2, 0, 'Toys/Hobbies'),\n",
       "  Text(3, 0, 'Collectibles'),\n",
       "  Text(4, 0, 'Antique/Art/Craft'),\n",
       "  Text(5, 0, 'Clothing/Accessories'),\n",
       "  Text(6, 0, 'Health/Beauty'),\n",
       "  Text(7, 0, 'Jewelry'),\n",
       "  Text(8, 0, 'Home/Garden'),\n",
       "  Text(9, 0, 'SportingGoods'),\n",
       "  Text(10, 0, 'Books'),\n",
       "  Text(11, 0, 'Coins/Stamps'),\n",
       "  Text(12, 0, 'EverythingElse'),\n",
       "  Text(13, 0, 'Pottery/Glass'),\n",
       "  Text(14, 0, 'Computer'),\n",
       "  Text(15, 0, 'Electronics'),\n",
       "  Text(16, 0, 'Business/Industrial'),\n",
       "  Text(17, 0, 'Photography')])"
      ]
     },
     "execution_count": 24,
     "metadata": {},
     "output_type": "execute_result"
    },
    {
     "data": {
      "image/png": "[encoded data removed]",
      "text/plain": [
       "<Figure size 1080x720 with 1 Axes>"
      ]
     },
     "metadata": {
      "needs_background": "light"
     },
     "output_type": "display_data"
    }
   ],
   "source": [
    "#comparing competitive auctions by category - with duplicates\n",
    "#some categories may be more competitive than others\n",
    "counts = (ebay_df.groupby(['Competitive?'])['Category'].value_counts(normalize = True).rename('percentage')\n",
    "         .mul(100).reset_index())\n",
    "plt.figure(figsize=(15,10))\n",
    "sns.barplot(x = 'Category', y ='percentage', hue = 'Competitive?', data = counts)\n",
    "plt.xlabel('Category?')\n",
    "plt.legend(title = 'Competitive?')\n",
    "plt.xticks(rotation = 90)"
   ]
  },
  {
   "cell_type": "code",
   "execution_count": 25,
   "id": "0bcd9330",
   "metadata": {},
   "outputs": [
    {
     "data": {
      "text/plain": [
       "(array([ 0,  1,  2,  3,  4,  5,  6,  7,  8,  9, 10, 11, 12, 13, 14, 15, 16,\n",
       "        17]),\n",
       " [Text(0, 0, 'Automotive'),\n",
       "  Text(1, 0, 'Music/Movie/Game'),\n",
       "  Text(2, 0, 'Collectibles'),\n",
       "  Text(3, 0, 'Toys/Hobbies'),\n",
       "  Text(4, 0, 'Antique/Art/Craft'),\n",
       "  Text(5, 0, 'Clothing/Accessories'),\n",
       "  Text(6, 0, 'Health/Beauty'),\n",
       "  Text(7, 0, 'Jewelry'),\n",
       "  Text(8, 0, 'Home/Garden'),\n",
       "  Text(9, 0, 'SportingGoods'),\n",
       "  Text(10, 0, 'Books'),\n",
       "  Text(11, 0, 'Coins/Stamps'),\n",
       "  Text(12, 0, 'Computer'),\n",
       "  Text(13, 0, 'Electronics'),\n",
       "  Text(14, 0, 'EverythingElse'),\n",
       "  Text(15, 0, 'Pottery/Glass'),\n",
       "  Text(16, 0, 'Business/Industrial'),\n",
       "  Text(17, 0, 'Photography')])"
      ]
     },
     "execution_count": 25,
     "metadata": {},
     "output_type": "execute_result"
    },
    {
     "data": {
      "image/png": "[encoded data removed]",
      "text/plain": [
       "<Figure size 1080x720 with 1 Axes>"
      ]
     },
     "metadata": {
      "needs_background": "light"
     },
     "output_type": "display_data"
    }
   ],
   "source": [
    "#comparing competitive auctions by category - with no duplicates\n",
    "counts = (ebay_df_no_duplicates.groupby(['Competitive?'])['Category'].value_counts(normalize = True).rename('percentage')\n",
    "         .mul(100).reset_index())\n",
    "plt.figure(figsize=(15,10))\n",
    "sns.barplot(x = 'Category', y ='percentage', hue = 'Competitive?', data = counts)\n",
    "plt.xlabel('Category?')\n",
    "plt.legend(title = 'Competitive?')\n",
    "plt.xticks(rotation = 90)"
   ]
  },
  {
   "cell_type": "code",
   "execution_count": 26,
   "id": "c4053369",
   "metadata": {},
   "outputs": [
    {
     "data": {
      "text/plain": [
       "<matplotlib.legend.Legend at 0x26e01279580>"
      ]
     },
     "execution_count": 26,
     "metadata": {},
     "output_type": "execute_result"
    },
    {
     "data": {
      "image/png": "[encoded data removed]",
      "text/plain": [
       "<Figure size 1080x720 with 1 Axes>"
      ]
     },
     "metadata": {
      "needs_background": "light"
     },
     "output_type": "display_data"
    }
   ],
   "source": [
    "#comparing competitive auctions by currency price - with duplicates\n",
    "counts = (ebay_df.groupby(['Competitive?'])['Currency'].value_counts(normalize = True).rename('percentage')\n",
    "         .mul(100).reset_index())\n",
    "plt.figure(figsize=(15,10))\n",
    "sns.barplot(x = 'Currency', y ='percentage', hue = 'Competitive?', data = counts)\n",
    "plt.xlabel('Currency?')\n",
    "plt.legend(title = 'Competitive?')"
   ]
  },
  {
   "cell_type": "code",
   "execution_count": 27,
   "id": "92ddb437",
   "metadata": {},
   "outputs": [
    {
     "data": {
      "text/plain": [
       "<matplotlib.legend.Legend at 0x26e00b2d670>"
      ]
     },
     "execution_count": 27,
     "metadata": {},
     "output_type": "execute_result"
    },
    {
     "data": {
      "image/png": "[encoded data removed]",
      "text/plain": [
       "<Figure size 1080x720 with 1 Axes>"
      ]
     },
     "metadata": {
      "needs_background": "light"
     },
     "output_type": "display_data"
    }
   ],
   "source": [
    "#comparing competitive auctions by currency price - without duplicates\n",
    "#currency doesn't seem to make a difference\n",
    "counts = (ebay_df_no_duplicates.groupby(['Competitive?'])['Currency'].value_counts(normalize = True).rename('percentage')\n",
    "         .mul(100).reset_index())\n",
    "plt.figure(figsize=(15,10))\n",
    "sns.barplot(x = 'Currency', y ='percentage', hue = 'Competitive?', data = counts)\n",
    "plt.xlabel('Currency?')\n",
    "plt.legend(title = 'Competitive?')"
   ]
  },
  {
   "cell_type": "code",
   "execution_count": 28,
   "id": "6657e6d7",
   "metadata": {},
   "outputs": [
    {
     "data": {
      "text/plain": [
       "<matplotlib.legend.Legend at 0x26e00b80fd0>"
      ]
     },
     "execution_count": 28,
     "metadata": {},
     "output_type": "execute_result"
    },
    {
     "data": {
      "image/png": "[encoded data removed]",
      "text/plain": [
       "<Figure size 1080x720 with 1 Axes>"
      ]
     },
     "metadata": {
      "needs_background": "light"
     },
     "output_type": "display_data"
    }
   ],
   "source": [
    "#comparing competitive auctions by endDay - with duplicates\n",
    "# monday seems to be a good day to end your auction\n",
    "counts = (ebay_df.groupby(['Competitive?'])['endDay'].value_counts(normalize = True).rename('percentage')\n",
    "         .mul(100).reset_index())\n",
    "plt.figure(figsize=(15,10))\n",
    "sns.barplot(x = 'endDay', y ='percentage', hue = 'Competitive?', data = counts)\n",
    "plt.xlabel('endDay?')\n",
    "plt.legend(title = 'Competitive?')"
   ]
  },
  {
   "cell_type": "code",
   "execution_count": 29,
   "id": "3ca65aa0",
   "metadata": {},
   "outputs": [],
   "source": [
    "ebay_df['Duration'] = ebay_df['Duration'].astype(\"object\")"
   ]
  },
  {
   "cell_type": "code",
   "execution_count": 30,
   "id": "38290e26",
   "metadata": {},
   "outputs": [
    {
     "data": {
      "text/plain": [
       "<matplotlib.legend.Legend at 0x26e00afad30>"
      ]
     },
     "execution_count": 30,
     "metadata": {},
     "output_type": "execute_result"
    },
    {
     "data": {
      "image/png": "[encoded data removed]",
      "text/plain": [
       "<Figure size 1080x720 with 1 Axes>"
      ]
     },
     "metadata": {
      "needs_background": "light"
     },
     "output_type": "display_data"
    }
   ],
   "source": [
    "#comparing competitive auctions by duration - with duplicates\n",
    "#auctions open for 5 days seem to be more competitive, 7 as well but has a higher percentage of not competitive\n",
    "counts = (ebay_df.groupby(['Competitive?'])['Duration'].value_counts(normalize = True).rename('percentage')\n",
    "         .mul(100).reset_index())\n",
    "plt.figure(figsize=(15,10))\n",
    "sns.barplot(x = 'Duration', y ='percentage', hue = 'Competitive?', data = counts)\n",
    "plt.xlabel('Duration')\n",
    "plt.legend(title = 'Competitive?')"
   ]
  },
  {
   "cell_type": "code",
   "execution_count": 31,
   "id": "29261bcd",
   "metadata": {},
   "outputs": [
    {
     "data": {
      "text/plain": [
       "Text(0.5, 0, 'Competitive?')"
      ]
     },
     "execution_count": 31,
     "metadata": {},
     "output_type": "execute_result"
    },
    {
     "data": {
      "image/png": "[encoded data removed]",
      "text/plain": [
       "<Figure size 432x288 with 1 Axes>"
      ]
     },
     "metadata": {
      "needs_background": "light"
     },
     "output_type": "display_data"
    }
   ],
   "source": [
    "#OpenPrice \n",
    "sns.boxplot(x=ebay_df['Competitive?'], y=ebay_df['OpenPrice'])\n",
    "plt.xticks(rotation = 90)\n",
    "plt.xlabel(\"Competitive?\")"
   ]
  },
  {
   "cell_type": "code",
   "execution_count": 32,
   "id": "eb1fdcc5",
   "metadata": {},
   "outputs": [
    {
     "data": {
      "text/plain": [
       "(-5.0, 100.0)"
      ]
     },
     "execution_count": 32,
     "metadata": {},
     "output_type": "execute_result"
    },
    {
     "data": {
      "image/png": "[encoded data removed]",
      "text/plain": [
       "<Figure size 432x288 with 1 Axes>"
      ]
     },
     "metadata": {
      "needs_background": "light"
     },
     "output_type": "display_data"
    }
   ],
   "source": [
    "# there are open prices that are higher than 100, cut the x-axis down just to make it more interpretable\n",
    "ebay_df_comp = ebay_df[ebay_df['Competitive?'] == 1]\n",
    "fig, ax = plt.subplots()\n",
    "sns.histplot(data = ebay_df_comp, x = 'OpenPrice')\n",
    "ax.set_xlim(-5,100)"
   ]
  },
  {
   "cell_type": "code",
   "execution_count": 33,
   "id": "b09a312b",
   "metadata": {},
   "outputs": [
    {
     "data": {
      "text/plain": [
       "(-5.0, 100.0)"
      ]
     },
     "execution_count": 33,
     "metadata": {},
     "output_type": "execute_result"
    },
    {
     "data": {
      "image/png": "[encoded data removed]",
      "text/plain": [
       "<Figure size 432x288 with 1 Axes>"
      ]
     },
     "metadata": {
      "needs_background": "light"
     },
     "output_type": "display_data"
    }
   ],
   "source": [
    "# there are open prices that are higher than 100, cut the x-axis down just to make it more interpretable\n",
    "# looks like auctions that are not competitive have higher opening prices\n",
    "ebay_df_comp = ebay_df[ebay_df['Competitive?'] == 0]\n",
    "fig, ax = plt.subplots()\n",
    "sns.histplot(data = ebay_df_comp, x = 'OpenPrice')\n",
    "ax.set_xlim(-5,100)"
   ]
  },
  {
   "cell_type": "code",
   "execution_count": 34,
   "id": "b4e3d62a",
   "metadata": {},
   "outputs": [
    {
     "data": {
      "text/plain": [
       "Text(0.5, 0, 'Competitive?')"
      ]
     },
     "execution_count": 34,
     "metadata": {},
     "output_type": "execute_result"
    },
    {
     "data": {
      "image/png": "[encoded data removed]",
      "text/plain": [
       "<Figure size 432x288 with 1 Axes>"
      ]
     },
     "metadata": {
      "needs_background": "light"
     },
     "output_type": "display_data"
    }
   ],
   "source": [
    "#Rating \n",
    "sns.boxplot(x=ebay_df['Competitive?'], y=ebay_df['sellerRating'])\n",
    "plt.xticks(rotation = 90)\n",
    "plt.xlabel(\"Competitive?\")"
   ]
  },
  {
   "cell_type": "code",
   "execution_count": 35,
   "id": "fee149d6",
   "metadata": {},
   "outputs": [
    {
     "data": {
      "text/plain": [
       "<AxesSubplot:xlabel='sellerRating', ylabel='Count'>"
      ]
     },
     "execution_count": 35,
     "metadata": {},
     "output_type": "execute_result"
    },
    {
     "data": {
      "image/png": "[encoded data removed]",
      "text/plain": [
       "<Figure size 432x288 with 1 Axes>"
      ]
     },
     "metadata": {
      "needs_background": "light"
     },
     "output_type": "display_data"
    }
   ],
   "source": [
    "# sellerRating histogram for competitive auctions\n",
    "ebay_df_comp = ebay_df[ebay_df['Competitive?'] == 1]\n",
    "fig, ax = plt.subplots()\n",
    "sns.histplot(data = ebay_df_comp, x = 'sellerRating')"
   ]
  },
  {
   "cell_type": "code",
   "execution_count": 36,
   "id": "ede45fe2",
   "metadata": {},
   "outputs": [
    {
     "data": {
      "text/plain": [
       "<AxesSubplot:xlabel='sellerRating', ylabel='Count'>"
      ]
     },
     "execution_count": 36,
     "metadata": {},
     "output_type": "execute_result"
    },
    {
     "data": {
      "image/png": "[encoded data removed]",
      "text/plain": [
       "<Figure size 432x288 with 1 Axes>"
      ]
     },
     "metadata": {
      "needs_background": "light"
     },
     "output_type": "display_data"
    }
   ],
   "source": [
    "# sellerRating histogram for not-competitive auctions\n",
    "ebay_df_comp = ebay_df[ebay_df['Competitive?'] == 0]\n",
    "fig, ax = plt.subplots()\n",
    "sns.histplot(data = ebay_df_comp, x = 'sellerRating')"
   ]
  },
  {
   "cell_type": "markdown",
   "id": "20be8307",
   "metadata": {},
   "source": [
    "Data Engineering"
   ]
  },
  {
   "cell_type": "markdown",
   "id": "94b985b7",
   "metadata": {},
   "source": [
    "Consider dropping the \"ClosePrice\" because we do not have this info at the time the auction is being run\n",
    "However, no need to worry about this because it is part of the next section of the assignment\n",
    "Keep ClosePrice in the model for now\n",
    "\n",
    "Keep duplicates in the data set - technically sellers on ebay can put multiple auctions for the same item so cannot tell for sure whether they are duplicates"
   ]
  },
  {
   "cell_type": "code",
   "execution_count": 37,
   "id": "08dd9d85",
   "metadata": {},
   "outputs": [
    {
     "data": {
      "text/html": [
       "<div>\n",
       "<style scoped>\n",
       "    .dataframe tbody tr th:only-of-type {\n",
       "        vertical-align: middle;\n",
       "    }\n",
       "\n",
       "    .dataframe tbody tr th {\n",
       "        vertical-align: top;\n",
       "    }\n",
       "\n",
       "    .dataframe thead th {\n",
       "        text-align: right;\n",
       "    }\n",
       "</style>\n",
       "<table border=\"1\" class=\"dataframe\">\n",
       "  <thead>\n",
       "    <tr style=\"text-align: right;\">\n",
       "      <th></th>\n",
       "      <th>category_Antique/Art/Craft</th>\n",
       "      <th>category_Automotive</th>\n",
       "      <th>category_Books</th>\n",
       "      <th>category_Business/Industrial</th>\n",
       "      <th>category_Clothing/Accessories</th>\n",
       "      <th>category_Coins/Stamps</th>\n",
       "      <th>category_Collectibles</th>\n",
       "      <th>category_Computer</th>\n",
       "      <th>category_Electronics</th>\n",
       "      <th>category_EverythingElse</th>\n",
       "      <th>category_Health/Beauty</th>\n",
       "      <th>category_Home/Garden</th>\n",
       "      <th>category_Jewelry</th>\n",
       "      <th>category_Music/Movie/Game</th>\n",
       "      <th>category_Photography</th>\n",
       "      <th>category_Pottery/Glass</th>\n",
       "      <th>category_SportingGoods</th>\n",
       "      <th>category_Toys/Hobbies</th>\n",
       "    </tr>\n",
       "  </thead>\n",
       "  <tbody>\n",
       "    <tr>\n",
       "      <th>0</th>\n",
       "      <td>0</td>\n",
       "      <td>0</td>\n",
       "      <td>0</td>\n",
       "      <td>0</td>\n",
       "      <td>0</td>\n",
       "      <td>0</td>\n",
       "      <td>0</td>\n",
       "      <td>0</td>\n",
       "      <td>0</td>\n",
       "      <td>0</td>\n",
       "      <td>0</td>\n",
       "      <td>0</td>\n",
       "      <td>0</td>\n",
       "      <td>1</td>\n",
       "      <td>0</td>\n",
       "      <td>0</td>\n",
       "      <td>0</td>\n",
       "      <td>0</td>\n",
       "    </tr>\n",
       "    <tr>\n",
       "      <th>1</th>\n",
       "      <td>0</td>\n",
       "      <td>0</td>\n",
       "      <td>0</td>\n",
       "      <td>0</td>\n",
       "      <td>0</td>\n",
       "      <td>0</td>\n",
       "      <td>0</td>\n",
       "      <td>0</td>\n",
       "      <td>0</td>\n",
       "      <td>0</td>\n",
       "      <td>0</td>\n",
       "      <td>0</td>\n",
       "      <td>0</td>\n",
       "      <td>1</td>\n",
       "      <td>0</td>\n",
       "      <td>0</td>\n",
       "      <td>0</td>\n",
       "      <td>0</td>\n",
       "    </tr>\n",
       "    <tr>\n",
       "      <th>2</th>\n",
       "      <td>0</td>\n",
       "      <td>0</td>\n",
       "      <td>0</td>\n",
       "      <td>0</td>\n",
       "      <td>0</td>\n",
       "      <td>0</td>\n",
       "      <td>0</td>\n",
       "      <td>0</td>\n",
       "      <td>0</td>\n",
       "      <td>0</td>\n",
       "      <td>0</td>\n",
       "      <td>0</td>\n",
       "      <td>0</td>\n",
       "      <td>1</td>\n",
       "      <td>0</td>\n",
       "      <td>0</td>\n",
       "      <td>0</td>\n",
       "      <td>0</td>\n",
       "    </tr>\n",
       "    <tr>\n",
       "      <th>3</th>\n",
       "      <td>0</td>\n",
       "      <td>0</td>\n",
       "      <td>0</td>\n",
       "      <td>0</td>\n",
       "      <td>0</td>\n",
       "      <td>0</td>\n",
       "      <td>0</td>\n",
       "      <td>0</td>\n",
       "      <td>0</td>\n",
       "      <td>0</td>\n",
       "      <td>0</td>\n",
       "      <td>0</td>\n",
       "      <td>0</td>\n",
       "      <td>1</td>\n",
       "      <td>0</td>\n",
       "      <td>0</td>\n",
       "      <td>0</td>\n",
       "      <td>0</td>\n",
       "    </tr>\n",
       "    <tr>\n",
       "      <th>4</th>\n",
       "      <td>0</td>\n",
       "      <td>0</td>\n",
       "      <td>0</td>\n",
       "      <td>0</td>\n",
       "      <td>0</td>\n",
       "      <td>0</td>\n",
       "      <td>0</td>\n",
       "      <td>0</td>\n",
       "      <td>0</td>\n",
       "      <td>0</td>\n",
       "      <td>0</td>\n",
       "      <td>0</td>\n",
       "      <td>0</td>\n",
       "      <td>1</td>\n",
       "      <td>0</td>\n",
       "      <td>0</td>\n",
       "      <td>0</td>\n",
       "      <td>0</td>\n",
       "    </tr>\n",
       "    <tr>\n",
       "      <th>...</th>\n",
       "      <td>...</td>\n",
       "      <td>...</td>\n",
       "      <td>...</td>\n",
       "      <td>...</td>\n",
       "      <td>...</td>\n",
       "      <td>...</td>\n",
       "      <td>...</td>\n",
       "      <td>...</td>\n",
       "      <td>...</td>\n",
       "      <td>...</td>\n",
       "      <td>...</td>\n",
       "      <td>...</td>\n",
       "      <td>...</td>\n",
       "      <td>...</td>\n",
       "      <td>...</td>\n",
       "      <td>...</td>\n",
       "      <td>...</td>\n",
       "      <td>...</td>\n",
       "    </tr>\n",
       "    <tr>\n",
       "      <th>1967</th>\n",
       "      <td>0</td>\n",
       "      <td>1</td>\n",
       "      <td>0</td>\n",
       "      <td>0</td>\n",
       "      <td>0</td>\n",
       "      <td>0</td>\n",
       "      <td>0</td>\n",
       "      <td>0</td>\n",
       "      <td>0</td>\n",
       "      <td>0</td>\n",
       "      <td>0</td>\n",
       "      <td>0</td>\n",
       "      <td>0</td>\n",
       "      <td>0</td>\n",
       "      <td>0</td>\n",
       "      <td>0</td>\n",
       "      <td>0</td>\n",
       "      <td>0</td>\n",
       "    </tr>\n",
       "    <tr>\n",
       "      <th>1968</th>\n",
       "      <td>0</td>\n",
       "      <td>1</td>\n",
       "      <td>0</td>\n",
       "      <td>0</td>\n",
       "      <td>0</td>\n",
       "      <td>0</td>\n",
       "      <td>0</td>\n",
       "      <td>0</td>\n",
       "      <td>0</td>\n",
       "      <td>0</td>\n",
       "      <td>0</td>\n",
       "      <td>0</td>\n",
       "      <td>0</td>\n",
       "      <td>0</td>\n",
       "      <td>0</td>\n",
       "      <td>0</td>\n",
       "      <td>0</td>\n",
       "      <td>0</td>\n",
       "    </tr>\n",
       "    <tr>\n",
       "      <th>1969</th>\n",
       "      <td>0</td>\n",
       "      <td>1</td>\n",
       "      <td>0</td>\n",
       "      <td>0</td>\n",
       "      <td>0</td>\n",
       "      <td>0</td>\n",
       "      <td>0</td>\n",
       "      <td>0</td>\n",
       "      <td>0</td>\n",
       "      <td>0</td>\n",
       "      <td>0</td>\n",
       "      <td>0</td>\n",
       "      <td>0</td>\n",
       "      <td>0</td>\n",
       "      <td>0</td>\n",
       "      <td>0</td>\n",
       "      <td>0</td>\n",
       "      <td>0</td>\n",
       "    </tr>\n",
       "    <tr>\n",
       "      <th>1970</th>\n",
       "      <td>0</td>\n",
       "      <td>1</td>\n",
       "      <td>0</td>\n",
       "      <td>0</td>\n",
       "      <td>0</td>\n",
       "      <td>0</td>\n",
       "      <td>0</td>\n",
       "      <td>0</td>\n",
       "      <td>0</td>\n",
       "      <td>0</td>\n",
       "      <td>0</td>\n",
       "      <td>0</td>\n",
       "      <td>0</td>\n",
       "      <td>0</td>\n",
       "      <td>0</td>\n",
       "      <td>0</td>\n",
       "      <td>0</td>\n",
       "      <td>0</td>\n",
       "    </tr>\n",
       "    <tr>\n",
       "      <th>1971</th>\n",
       "      <td>0</td>\n",
       "      <td>1</td>\n",
       "      <td>0</td>\n",
       "      <td>0</td>\n",
       "      <td>0</td>\n",
       "      <td>0</td>\n",
       "      <td>0</td>\n",
       "      <td>0</td>\n",
       "      <td>0</td>\n",
       "      <td>0</td>\n",
       "      <td>0</td>\n",
       "      <td>0</td>\n",
       "      <td>0</td>\n",
       "      <td>0</td>\n",
       "      <td>0</td>\n",
       "      <td>0</td>\n",
       "      <td>0</td>\n",
       "      <td>0</td>\n",
       "    </tr>\n",
       "  </tbody>\n",
       "</table>\n",
       "<p>1972 rows × 18 columns</p>\n",
       "</div>"
      ],
      "text/plain": [
       "      category_Antique/Art/Craft  category_Automotive  category_Books  \\\n",
       "0                              0                    0               0   \n",
       "1                              0                    0               0   \n",
       "2                              0                    0               0   \n",
       "3                              0                    0               0   \n",
       "4                              0                    0               0   \n",
       "...                          ...                  ...             ...   \n",
       "1967                           0                    1               0   \n",
       "1968                           0                    1               0   \n",
       "1969                           0                    1               0   \n",
       "1970                           0                    1               0   \n",
       "1971                           0                    1               0   \n",
       "\n",
       "      category_Business/Industrial  category_Clothing/Accessories  \\\n",
       "0                                0                              0   \n",
       "1                                0                              0   \n",
       "2                                0                              0   \n",
       "3                                0                              0   \n",
       "4                                0                              0   \n",
       "...                            ...                            ...   \n",
       "1967                             0                              0   \n",
       "1968                             0                              0   \n",
       "1969                             0                              0   \n",
       "1970                             0                              0   \n",
       "1971                             0                              0   \n",
       "\n",
       "      category_Coins/Stamps  category_Collectibles  category_Computer  \\\n",
       "0                         0                      0                  0   \n",
       "1                         0                      0                  0   \n",
       "2                         0                      0                  0   \n",
       "3                         0                      0                  0   \n",
       "4                         0                      0                  0   \n",
       "...                     ...                    ...                ...   \n",
       "1967                      0                      0                  0   \n",
       "1968                      0                      0                  0   \n",
       "1969                      0                      0                  0   \n",
       "1970                      0                      0                  0   \n",
       "1971                      0                      0                  0   \n",
       "\n",
       "      category_Electronics  category_EverythingElse  category_Health/Beauty  \\\n",
       "0                        0                        0                       0   \n",
       "1                        0                        0                       0   \n",
       "2                        0                        0                       0   \n",
       "3                        0                        0                       0   \n",
       "4                        0                        0                       0   \n",
       "...                    ...                      ...                     ...   \n",
       "1967                     0                        0                       0   \n",
       "1968                     0                        0                       0   \n",
       "1969                     0                        0                       0   \n",
       "1970                     0                        0                       0   \n",
       "1971                     0                        0                       0   \n",
       "\n",
       "      category_Home/Garden  category_Jewelry  category_Music/Movie/Game  \\\n",
       "0                        0                 0                          1   \n",
       "1                        0                 0                          1   \n",
       "2                        0                 0                          1   \n",
       "3                        0                 0                          1   \n",
       "4                        0                 0                          1   \n",
       "...                    ...               ...                        ...   \n",
       "1967                     0                 0                          0   \n",
       "1968                     0                 0                          0   \n",
       "1969                     0                 0                          0   \n",
       "1970                     0                 0                          0   \n",
       "1971                     0                 0                          0   \n",
       "\n",
       "      category_Photography  category_Pottery/Glass  category_SportingGoods  \\\n",
       "0                        0                       0                       0   \n",
       "1                        0                       0                       0   \n",
       "2                        0                       0                       0   \n",
       "3                        0                       0                       0   \n",
       "4                        0                       0                       0   \n",
       "...                    ...                     ...                     ...   \n",
       "1967                     0                       0                       0   \n",
       "1968                     0                       0                       0   \n",
       "1969                     0                       0                       0   \n",
       "1970                     0                       0                       0   \n",
       "1971                     0                       0                       0   \n",
       "\n",
       "      category_Toys/Hobbies  \n",
       "0                         0  \n",
       "1                         0  \n",
       "2                         0  \n",
       "3                         0  \n",
       "4                         0  \n",
       "...                     ...  \n",
       "1967                      0  \n",
       "1968                      0  \n",
       "1969                      0  \n",
       "1970                      0  \n",
       "1971                      0  \n",
       "\n",
       "[1972 rows x 18 columns]"
      ]
     },
     "execution_count": 37,
     "metadata": {},
     "output_type": "execute_result"
    }
   ],
   "source": [
    "pd.get_dummies(ebay_df['Category'], prefix = 'category')"
   ]
  },
  {
   "cell_type": "code",
   "execution_count": 38,
   "id": "21a625f9",
   "metadata": {},
   "outputs": [
    {
     "data": {
      "text/html": [
       "<div>\n",
       "<style scoped>\n",
       "    .dataframe tbody tr th:only-of-type {\n",
       "        vertical-align: middle;\n",
       "    }\n",
       "\n",
       "    .dataframe tbody tr th {\n",
       "        vertical-align: top;\n",
       "    }\n",
       "\n",
       "    .dataframe thead th {\n",
       "        text-align: right;\n",
       "    }\n",
       "</style>\n",
       "<table border=\"1\" class=\"dataframe\">\n",
       "  <thead>\n",
       "    <tr style=\"text-align: right;\">\n",
       "      <th></th>\n",
       "      <th>currency_EUR</th>\n",
       "      <th>currency_GBP</th>\n",
       "      <th>currency_US</th>\n",
       "    </tr>\n",
       "  </thead>\n",
       "  <tbody>\n",
       "    <tr>\n",
       "      <th>0</th>\n",
       "      <td>0</td>\n",
       "      <td>0</td>\n",
       "      <td>1</td>\n",
       "    </tr>\n",
       "    <tr>\n",
       "      <th>1</th>\n",
       "      <td>0</td>\n",
       "      <td>0</td>\n",
       "      <td>1</td>\n",
       "    </tr>\n",
       "    <tr>\n",
       "      <th>2</th>\n",
       "      <td>0</td>\n",
       "      <td>0</td>\n",
       "      <td>1</td>\n",
       "    </tr>\n",
       "    <tr>\n",
       "      <th>3</th>\n",
       "      <td>0</td>\n",
       "      <td>0</td>\n",
       "      <td>1</td>\n",
       "    </tr>\n",
       "    <tr>\n",
       "      <th>4</th>\n",
       "      <td>0</td>\n",
       "      <td>0</td>\n",
       "      <td>1</td>\n",
       "    </tr>\n",
       "    <tr>\n",
       "      <th>...</th>\n",
       "      <td>...</td>\n",
       "      <td>...</td>\n",
       "      <td>...</td>\n",
       "    </tr>\n",
       "    <tr>\n",
       "      <th>1967</th>\n",
       "      <td>0</td>\n",
       "      <td>0</td>\n",
       "      <td>1</td>\n",
       "    </tr>\n",
       "    <tr>\n",
       "      <th>1968</th>\n",
       "      <td>0</td>\n",
       "      <td>0</td>\n",
       "      <td>1</td>\n",
       "    </tr>\n",
       "    <tr>\n",
       "      <th>1969</th>\n",
       "      <td>0</td>\n",
       "      <td>0</td>\n",
       "      <td>1</td>\n",
       "    </tr>\n",
       "    <tr>\n",
       "      <th>1970</th>\n",
       "      <td>0</td>\n",
       "      <td>0</td>\n",
       "      <td>1</td>\n",
       "    </tr>\n",
       "    <tr>\n",
       "      <th>1971</th>\n",
       "      <td>0</td>\n",
       "      <td>0</td>\n",
       "      <td>1</td>\n",
       "    </tr>\n",
       "  </tbody>\n",
       "</table>\n",
       "<p>1972 rows × 3 columns</p>\n",
       "</div>"
      ],
      "text/plain": [
       "      currency_EUR  currency_GBP  currency_US\n",
       "0                0             0            1\n",
       "1                0             0            1\n",
       "2                0             0            1\n",
       "3                0             0            1\n",
       "4                0             0            1\n",
       "...            ...           ...          ...\n",
       "1967             0             0            1\n",
       "1968             0             0            1\n",
       "1969             0             0            1\n",
       "1970             0             0            1\n",
       "1971             0             0            1\n",
       "\n",
       "[1972 rows x 3 columns]"
      ]
     },
     "execution_count": 38,
     "metadata": {},
     "output_type": "execute_result"
    }
   ],
   "source": [
    "pd.get_dummies(ebay_df['Currency'], prefix = 'currency')"
   ]
  },
  {
   "cell_type": "code",
   "execution_count": 39,
   "id": "d141ad2c",
   "metadata": {},
   "outputs": [
    {
     "data": {
      "text/html": [
       "<div>\n",
       "<style scoped>\n",
       "    .dataframe tbody tr th:only-of-type {\n",
       "        vertical-align: middle;\n",
       "    }\n",
       "\n",
       "    .dataframe tbody tr th {\n",
       "        vertical-align: top;\n",
       "    }\n",
       "\n",
       "    .dataframe thead th {\n",
       "        text-align: right;\n",
       "    }\n",
       "</style>\n",
       "<table border=\"1\" class=\"dataframe\">\n",
       "  <thead>\n",
       "    <tr style=\"text-align: right;\">\n",
       "      <th></th>\n",
       "      <th>duration_1</th>\n",
       "      <th>duration_3</th>\n",
       "      <th>duration_5</th>\n",
       "      <th>duration_7</th>\n",
       "      <th>duration_10</th>\n",
       "    </tr>\n",
       "  </thead>\n",
       "  <tbody>\n",
       "    <tr>\n",
       "      <th>0</th>\n",
       "      <td>0</td>\n",
       "      <td>0</td>\n",
       "      <td>1</td>\n",
       "      <td>0</td>\n",
       "      <td>0</td>\n",
       "    </tr>\n",
       "    <tr>\n",
       "      <th>1</th>\n",
       "      <td>0</td>\n",
       "      <td>0</td>\n",
       "      <td>1</td>\n",
       "      <td>0</td>\n",
       "      <td>0</td>\n",
       "    </tr>\n",
       "    <tr>\n",
       "      <th>2</th>\n",
       "      <td>0</td>\n",
       "      <td>0</td>\n",
       "      <td>1</td>\n",
       "      <td>0</td>\n",
       "      <td>0</td>\n",
       "    </tr>\n",
       "    <tr>\n",
       "      <th>3</th>\n",
       "      <td>0</td>\n",
       "      <td>0</td>\n",
       "      <td>1</td>\n",
       "      <td>0</td>\n",
       "      <td>0</td>\n",
       "    </tr>\n",
       "    <tr>\n",
       "      <th>4</th>\n",
       "      <td>0</td>\n",
       "      <td>0</td>\n",
       "      <td>1</td>\n",
       "      <td>0</td>\n",
       "      <td>0</td>\n",
       "    </tr>\n",
       "    <tr>\n",
       "      <th>...</th>\n",
       "      <td>...</td>\n",
       "      <td>...</td>\n",
       "      <td>...</td>\n",
       "      <td>...</td>\n",
       "      <td>...</td>\n",
       "    </tr>\n",
       "    <tr>\n",
       "      <th>1967</th>\n",
       "      <td>0</td>\n",
       "      <td>0</td>\n",
       "      <td>1</td>\n",
       "      <td>0</td>\n",
       "      <td>0</td>\n",
       "    </tr>\n",
       "    <tr>\n",
       "      <th>1968</th>\n",
       "      <td>0</td>\n",
       "      <td>0</td>\n",
       "      <td>1</td>\n",
       "      <td>0</td>\n",
       "      <td>0</td>\n",
       "    </tr>\n",
       "    <tr>\n",
       "      <th>1969</th>\n",
       "      <td>0</td>\n",
       "      <td>0</td>\n",
       "      <td>1</td>\n",
       "      <td>0</td>\n",
       "      <td>0</td>\n",
       "    </tr>\n",
       "    <tr>\n",
       "      <th>1970</th>\n",
       "      <td>0</td>\n",
       "      <td>0</td>\n",
       "      <td>0</td>\n",
       "      <td>1</td>\n",
       "      <td>0</td>\n",
       "    </tr>\n",
       "    <tr>\n",
       "      <th>1971</th>\n",
       "      <td>0</td>\n",
       "      <td>0</td>\n",
       "      <td>0</td>\n",
       "      <td>1</td>\n",
       "      <td>0</td>\n",
       "    </tr>\n",
       "  </tbody>\n",
       "</table>\n",
       "<p>1972 rows × 5 columns</p>\n",
       "</div>"
      ],
      "text/plain": [
       "      duration_1  duration_3  duration_5  duration_7  duration_10\n",
       "0              0           0           1           0            0\n",
       "1              0           0           1           0            0\n",
       "2              0           0           1           0            0\n",
       "3              0           0           1           0            0\n",
       "4              0           0           1           0            0\n",
       "...          ...         ...         ...         ...          ...\n",
       "1967           0           0           1           0            0\n",
       "1968           0           0           1           0            0\n",
       "1969           0           0           1           0            0\n",
       "1970           0           0           0           1            0\n",
       "1971           0           0           0           1            0\n",
       "\n",
       "[1972 rows x 5 columns]"
      ]
     },
     "execution_count": 39,
     "metadata": {},
     "output_type": "execute_result"
    }
   ],
   "source": [
    "pd.get_dummies(ebay_df['Duration'], prefix = 'duration')"
   ]
  },
  {
   "cell_type": "code",
   "execution_count": 40,
   "id": "8c6d428a",
   "metadata": {},
   "outputs": [
    {
     "data": {
      "text/html": [
       "<div>\n",
       "<style scoped>\n",
       "    .dataframe tbody tr th:only-of-type {\n",
       "        vertical-align: middle;\n",
       "    }\n",
       "\n",
       "    .dataframe tbody tr th {\n",
       "        vertical-align: top;\n",
       "    }\n",
       "\n",
       "    .dataframe thead th {\n",
       "        text-align: right;\n",
       "    }\n",
       "</style>\n",
       "<table border=\"1\" class=\"dataframe\">\n",
       "  <thead>\n",
       "    <tr style=\"text-align: right;\">\n",
       "      <th></th>\n",
       "      <th>endDay_Fri</th>\n",
       "      <th>endDay_Mon</th>\n",
       "      <th>endDay_Sat</th>\n",
       "      <th>endDay_Sun</th>\n",
       "      <th>endDay_Thu</th>\n",
       "      <th>endDay_Tue</th>\n",
       "      <th>endDay_Wed</th>\n",
       "    </tr>\n",
       "  </thead>\n",
       "  <tbody>\n",
       "    <tr>\n",
       "      <th>0</th>\n",
       "      <td>0</td>\n",
       "      <td>1</td>\n",
       "      <td>0</td>\n",
       "      <td>0</td>\n",
       "      <td>0</td>\n",
       "      <td>0</td>\n",
       "      <td>0</td>\n",
       "    </tr>\n",
       "    <tr>\n",
       "      <th>1</th>\n",
       "      <td>0</td>\n",
       "      <td>1</td>\n",
       "      <td>0</td>\n",
       "      <td>0</td>\n",
       "      <td>0</td>\n",
       "      <td>0</td>\n",
       "      <td>0</td>\n",
       "    </tr>\n",
       "    <tr>\n",
       "      <th>2</th>\n",
       "      <td>0</td>\n",
       "      <td>1</td>\n",
       "      <td>0</td>\n",
       "      <td>0</td>\n",
       "      <td>0</td>\n",
       "      <td>0</td>\n",
       "      <td>0</td>\n",
       "    </tr>\n",
       "    <tr>\n",
       "      <th>3</th>\n",
       "      <td>0</td>\n",
       "      <td>1</td>\n",
       "      <td>0</td>\n",
       "      <td>0</td>\n",
       "      <td>0</td>\n",
       "      <td>0</td>\n",
       "      <td>0</td>\n",
       "    </tr>\n",
       "    <tr>\n",
       "      <th>4</th>\n",
       "      <td>0</td>\n",
       "      <td>1</td>\n",
       "      <td>0</td>\n",
       "      <td>0</td>\n",
       "      <td>0</td>\n",
       "      <td>0</td>\n",
       "      <td>0</td>\n",
       "    </tr>\n",
       "    <tr>\n",
       "      <th>...</th>\n",
       "      <td>...</td>\n",
       "      <td>...</td>\n",
       "      <td>...</td>\n",
       "      <td>...</td>\n",
       "      <td>...</td>\n",
       "      <td>...</td>\n",
       "      <td>...</td>\n",
       "    </tr>\n",
       "    <tr>\n",
       "      <th>1967</th>\n",
       "      <td>0</td>\n",
       "      <td>0</td>\n",
       "      <td>0</td>\n",
       "      <td>1</td>\n",
       "      <td>0</td>\n",
       "      <td>0</td>\n",
       "      <td>0</td>\n",
       "    </tr>\n",
       "    <tr>\n",
       "      <th>1968</th>\n",
       "      <td>0</td>\n",
       "      <td>0</td>\n",
       "      <td>1</td>\n",
       "      <td>0</td>\n",
       "      <td>0</td>\n",
       "      <td>0</td>\n",
       "      <td>0</td>\n",
       "    </tr>\n",
       "    <tr>\n",
       "      <th>1969</th>\n",
       "      <td>0</td>\n",
       "      <td>1</td>\n",
       "      <td>0</td>\n",
       "      <td>0</td>\n",
       "      <td>0</td>\n",
       "      <td>0</td>\n",
       "      <td>0</td>\n",
       "    </tr>\n",
       "    <tr>\n",
       "      <th>1970</th>\n",
       "      <td>1</td>\n",
       "      <td>0</td>\n",
       "      <td>0</td>\n",
       "      <td>0</td>\n",
       "      <td>0</td>\n",
       "      <td>0</td>\n",
       "      <td>0</td>\n",
       "    </tr>\n",
       "    <tr>\n",
       "      <th>1971</th>\n",
       "      <td>0</td>\n",
       "      <td>0</td>\n",
       "      <td>1</td>\n",
       "      <td>0</td>\n",
       "      <td>0</td>\n",
       "      <td>0</td>\n",
       "      <td>0</td>\n",
       "    </tr>\n",
       "  </tbody>\n",
       "</table>\n",
       "<p>1972 rows × 7 columns</p>\n",
       "</div>"
      ],
      "text/plain": [
       "      endDay_Fri  endDay_Mon  endDay_Sat  endDay_Sun  endDay_Thu  endDay_Tue  \\\n",
       "0              0           1           0           0           0           0   \n",
       "1              0           1           0           0           0           0   \n",
       "2              0           1           0           0           0           0   \n",
       "3              0           1           0           0           0           0   \n",
       "4              0           1           0           0           0           0   \n",
       "...          ...         ...         ...         ...         ...         ...   \n",
       "1967           0           0           0           1           0           0   \n",
       "1968           0           0           1           0           0           0   \n",
       "1969           0           1           0           0           0           0   \n",
       "1970           1           0           0           0           0           0   \n",
       "1971           0           0           1           0           0           0   \n",
       "\n",
       "      endDay_Wed  \n",
       "0              0  \n",
       "1              0  \n",
       "2              0  \n",
       "3              0  \n",
       "4              0  \n",
       "...          ...  \n",
       "1967           0  \n",
       "1968           0  \n",
       "1969           0  \n",
       "1970           0  \n",
       "1971           0  \n",
       "\n",
       "[1972 rows x 7 columns]"
      ]
     },
     "execution_count": 40,
     "metadata": {},
     "output_type": "execute_result"
    }
   ],
   "source": [
    "pd.get_dummies(ebay_df['endDay'], prefix = 'endDay')"
   ]
  },
  {
   "cell_type": "code",
   "execution_count": 41,
   "id": "63887acb",
   "metadata": {},
   "outputs": [],
   "source": [
    "ebay_df_final = pd.concat([ebay_df, pd.get_dummies(ebay_df['Category'], prefix = 'category'),  pd.get_dummies(ebay_df['Currency'], prefix = 'currency'), pd.get_dummies(ebay_df['Duration'], prefix = 'duration'),pd.get_dummies(ebay_df['endDay'], prefix = 'endDate')], axis = 1)"
   ]
  },
  {
   "cell_type": "code",
   "execution_count": 42,
   "id": "51a8eb36",
   "metadata": {},
   "outputs": [],
   "source": [
    "ebay_df_final.drop(['Category', 'Currency', 'Duration', 'endDay'], axis = 1, inplace = True)"
   ]
  },
  {
   "cell_type": "code",
   "execution_count": 43,
   "id": "35297119",
   "metadata": {},
   "outputs": [
    {
     "name": "stdout",
     "output_type": "stream",
     "text": [
      "<class 'pandas.core.frame.DataFrame'>\n",
      "RangeIndex: 1972 entries, 0 to 1971\n",
      "Data columns (total 37 columns):\n",
      " #   Column                         Non-Null Count  Dtype  \n",
      "---  ------                         --------------  -----  \n",
      " 0   sellerRating                   1972 non-null   int64  \n",
      " 1   ClosePrice                     1972 non-null   float64\n",
      " 2   OpenPrice                      1972 non-null   float64\n",
      " 3   Competitive?                   1972 non-null   int64  \n",
      " 4   category_Antique/Art/Craft     1972 non-null   uint8  \n",
      " 5   category_Automotive            1972 non-null   uint8  \n",
      " 6   category_Books                 1972 non-null   uint8  \n",
      " 7   category_Business/Industrial   1972 non-null   uint8  \n",
      " 8   category_Clothing/Accessories  1972 non-null   uint8  \n",
      " 9   category_Coins/Stamps          1972 non-null   uint8  \n",
      " 10  category_Collectibles          1972 non-null   uint8  \n",
      " 11  category_Computer              1972 non-null   uint8  \n",
      " 12  category_Electronics           1972 non-null   uint8  \n",
      " 13  category_EverythingElse        1972 non-null   uint8  \n",
      " 14  category_Health/Beauty         1972 non-null   uint8  \n",
      " 15  category_Home/Garden           1972 non-null   uint8  \n",
      " 16  category_Jewelry               1972 non-null   uint8  \n",
      " 17  category_Music/Movie/Game      1972 non-null   uint8  \n",
      " 18  category_Photography           1972 non-null   uint8  \n",
      " 19  category_Pottery/Glass         1972 non-null   uint8  \n",
      " 20  category_SportingGoods         1972 non-null   uint8  \n",
      " 21  category_Toys/Hobbies          1972 non-null   uint8  \n",
      " 22  currency_EUR                   1972 non-null   uint8  \n",
      " 23  currency_GBP                   1972 non-null   uint8  \n",
      " 24  currency_US                    1972 non-null   uint8  \n",
      " 25  duration_1                     1972 non-null   uint8  \n",
      " 26  duration_3                     1972 non-null   uint8  \n",
      " 27  duration_5                     1972 non-null   uint8  \n",
      " 28  duration_7                     1972 non-null   uint8  \n",
      " 29  duration_10                    1972 non-null   uint8  \n",
      " 30  endDate_Fri                    1972 non-null   uint8  \n",
      " 31  endDate_Mon                    1972 non-null   uint8  \n",
      " 32  endDate_Sat                    1972 non-null   uint8  \n",
      " 33  endDate_Sun                    1972 non-null   uint8  \n",
      " 34  endDate_Thu                    1972 non-null   uint8  \n",
      " 35  endDate_Tue                    1972 non-null   uint8  \n",
      " 36  endDate_Wed                    1972 non-null   uint8  \n",
      "dtypes: float64(2), int64(2), uint8(33)\n",
      "memory usage: 125.3 KB\n"
     ]
    }
   ],
   "source": [
    "ebay_df_final.info()"
   ]
  },
  {
   "cell_type": "code",
   "execution_count": 44,
   "id": "fc6f0dae",
   "metadata": {},
   "outputs": [],
   "source": [
    "# we do not know the closing price when an ebay auction is made live so will drop this column\n",
    "#save this for next part\n",
    "#ebay_df_final.drop(['ClosePrice'], axis = 1 , inplace = True)"
   ]
  },
  {
   "cell_type": "code",
   "execution_count": 45,
   "id": "1da0bf6f",
   "metadata": {},
   "outputs": [],
   "source": [
    "#declare X dataframe\n",
    "X = ebay_df_final.drop(['Competitive?'], axis = 1)\n",
    "y = ebay_df_final['Competitive?']"
   ]
  },
  {
   "cell_type": "code",
   "execution_count": 46,
   "id": "8f46feb0",
   "metadata": {},
   "outputs": [],
   "source": [
    "X_train, X_test, y_train, y_test = train_test_split(X, y, test_size = 0.4, random_state = 42)"
   ]
  },
  {
   "cell_type": "code",
   "execution_count": 47,
   "id": "09e393f6",
   "metadata": {},
   "outputs": [],
   "source": [
    "fullClassTree = DecisionTreeClassifier(min_samples_leaf = 50, random_state = 42)"
   ]
  },
  {
   "cell_type": "code",
   "execution_count": 48,
   "id": "de10187b",
   "metadata": {},
   "outputs": [
    {
     "data": {
      "text/plain": [
       "DecisionTreeClassifier(min_samples_leaf=50, random_state=42)"
      ]
     },
     "execution_count": 48,
     "metadata": {},
     "output_type": "execute_result"
    }
   ],
   "source": [
    "fullClassTree.fit(X_train, y_train)"
   ]
  },
  {
   "cell_type": "code",
   "execution_count": 49,
   "id": "f9931e68",
   "metadata": {},
   "outputs": [],
   "source": [
    "y_predicted = fullClassTree.predict(X_test)"
   ]
  },
  {
   "cell_type": "code",
   "execution_count": 50,
   "id": "e401bd0b",
   "metadata": {},
   "outputs": [
    {
     "data": {
      "text/plain": [
       "0.8276299112801014"
      ]
     },
     "execution_count": 50,
     "metadata": {},
     "output_type": "execute_result"
    }
   ],
   "source": [
    "fullClassTree.score(X_test, y_test)"
   ]
  },
  {
   "cell_type": "code",
   "execution_count": 51,
   "id": "fd2929b0",
   "metadata": {},
   "outputs": [
    {
     "data": {
      "text/plain": [
       "{'ccp_alpha': 0.0,\n",
       " 'class_weight': None,\n",
       " 'criterion': 'gini',\n",
       " 'max_depth': None,\n",
       " 'max_features': None,\n",
       " 'max_leaf_nodes': None,\n",
       " 'min_impurity_decrease': 0.0,\n",
       " 'min_impurity_split': None,\n",
       " 'min_samples_leaf': 50,\n",
       " 'min_samples_split': 2,\n",
       " 'min_weight_fraction_leaf': 0.0,\n",
       " 'random_state': 42,\n",
       " 'splitter': 'best'}"
      ]
     },
     "execution_count": 51,
     "metadata": {},
     "output_type": "execute_result"
    }
   ],
   "source": [
    "fullClassTree.get_params()"
   ]
  },
  {
   "cell_type": "code",
   "execution_count": 52,
   "id": "a25d954c",
   "metadata": {},
   "outputs": [
    {
     "name": "stdout",
     "output_type": "stream",
     "text": [
      "Confusion Matrix (Accuracy 0.8436)\n",
      "\n",
      "       Prediction\n",
      "Actual   0   1\n",
      "     0 488  59\n",
      "     1 126 510\n"
     ]
    }
   ],
   "source": [
    "classificationSummary(y_train, fullClassTree.predict(X_train))"
   ]
  },
  {
   "cell_type": "code",
   "execution_count": 53,
   "id": "4817f0ee",
   "metadata": {},
   "outputs": [
    {
     "data": {
      "text/plain": [
       "27"
      ]
     },
     "execution_count": 53,
     "metadata": {},
     "output_type": "execute_result"
    }
   ],
   "source": [
    "fullClassTree.tree_.node_count"
   ]
  },
  {
   "cell_type": "code",
   "execution_count": 54,
   "id": "6d1777ca",
   "metadata": {},
   "outputs": [
    {
     "data": {
      "text/plain": [
       "6"
      ]
     },
     "execution_count": 54,
     "metadata": {},
     "output_type": "execute_result"
    }
   ],
   "source": [
    "fullClassTree.tree_.max_depth"
   ]
  },
  {
   "cell_type": "code",
   "execution_count": 55,
   "id": "79667f2d",
   "metadata": {},
   "outputs": [
    {
     "data": {
      "text/plain": [
       "[Text(614.4642857142858, 1009.5428571428572, 'OpenPrice <= 3.615\\ngini = 0.497\\nsamples = 1183\\nvalue = [547, 636]\\nclass = C'),\n",
       " Text(332.14285714285717, 854.2285714285715, 'ClosePrice <= 3.645\\ngini = 0.384\\nsamples = 537\\nvalue = [139, 398]\\nclass = C'),\n",
       " Text(199.28571428571428, 698.9142857142858, 'OpenPrice <= 2.115\\ngini = 0.451\\nsamples = 210\\nvalue = [138, 72]\\nclass = NC'),\n",
       " Text(132.85714285714286, 543.6, 'ClosePrice <= 1.24\\ngini = 0.497\\nsamples = 146\\nvalue = [79, 67]\\nclass = NC'),\n",
       " Text(66.42857142857143, 388.28571428571433, 'gini = 0.278\\nsamples = 72\\nvalue = [60, 12]\\nclass = NC'),\n",
       " Text(199.28571428571428, 388.28571428571433, 'gini = 0.382\\nsamples = 74\\nvalue = [19, 55]\\nclass = C'),\n",
       " Text(265.7142857142857, 543.6, 'gini = 0.144\\nsamples = 64\\nvalue = [59, 5]\\nclass = NC'),\n",
       " Text(465.0, 698.9142857142858, 'OpenPrice <= 2.995\\ngini = 0.006\\nsamples = 327\\nvalue = [1, 326]\\nclass = C'),\n",
       " Text(398.57142857142856, 543.6, 'gini = 0.0\\nsamples = 276\\nvalue = [0, 276]\\nclass = C'),\n",
       " Text(531.4285714285714, 543.6, 'gini = 0.038\\nsamples = 51\\nvalue = [1, 50]\\nclass = C'),\n",
       " Text(896.7857142857143, 854.2285714285715, 'sellerRating <= 601.5\\ngini = 0.465\\nsamples = 646\\nvalue = [408, 238]\\nclass = NC'),\n",
       " Text(730.7142857142858, 698.9142857142858, 'ClosePrice <= 15.125\\ngini = 0.464\\nsamples = 150\\nvalue = [55, 95]\\nclass = C'),\n",
       " Text(664.2857142857143, 543.6, 'gini = 0.48\\nsamples = 55\\nvalue = [33, 22]\\nclass = NC'),\n",
       " Text(797.1428571428571, 543.6, 'gini = 0.356\\nsamples = 95\\nvalue = [22, 73]\\nclass = C'),\n",
       " Text(1062.857142857143, 698.9142857142858, 'ClosePrice <= 10.0\\ngini = 0.41\\nsamples = 496\\nvalue = [353, 143]\\nclass = NC'),\n",
       " Text(930.0, 543.6, 'OpenPrice <= 4.995\\ngini = 0.266\\nsamples = 209\\nvalue = [176, 33]\\nclass = NC'),\n",
       " Text(863.5714285714286, 388.28571428571433, 'gini = 0.371\\nsamples = 65\\nvalue = [49, 16]\\nclass = NC'),\n",
       " Text(996.4285714285714, 388.28571428571433, 'ClosePrice <= 6.995\\ngini = 0.208\\nsamples = 144\\nvalue = [127, 17]\\nclass = NC'),\n",
       " Text(930.0, 232.97142857142865, 'gini = 0.121\\nsamples = 62\\nvalue = [58, 4]\\nclass = NC'),\n",
       " Text(1062.857142857143, 232.97142857142865, 'gini = 0.267\\nsamples = 82\\nvalue = [69, 13]\\nclass = NC'),\n",
       " Text(1195.7142857142858, 543.6, 'OpenPrice <= 10.49\\ngini = 0.473\\nsamples = 287\\nvalue = [177, 110]\\nclass = NC'),\n",
       " Text(1129.2857142857142, 388.28571428571433, 'gini = 0.357\\nsamples = 73\\nvalue = [17, 56]\\nclass = C'),\n",
       " Text(1262.142857142857, 388.28571428571433, 'category_Automotive <= 0.5\\ngini = 0.377\\nsamples = 214\\nvalue = [160, 54]\\nclass = NC'),\n",
       " Text(1195.7142857142858, 232.97142857142865, 'ClosePrice <= 20.25\\ngini = 0.419\\nsamples = 157\\nvalue = [110, 47]\\nclass = NC'),\n",
       " Text(1129.2857142857142, 77.65714285714284, 'gini = 0.301\\nsamples = 76\\nvalue = [62, 14]\\nclass = NC'),\n",
       " Text(1262.142857142857, 77.65714285714284, 'gini = 0.483\\nsamples = 81\\nvalue = [48, 33]\\nclass = NC'),\n",
       " Text(1328.5714285714287, 232.97142857142865, 'gini = 0.215\\nsamples = 57\\nvalue = [50, 7]\\nclass = NC')]"
      ]
     },
     "execution_count": 55,
     "metadata": {},
     "output_type": "execute_result"
    },
    {
     "data": {
      "image/png": "[encoded data removed]",
      "text/plain": [
       "<Figure size 1800x1440 with 1 Axes>"
      ]
     },
     "metadata": {
      "needs_background": "light"
     },
     "output_type": "display_data"
    }
   ],
   "source": [
    "plt.figure(figsize=(25,20))\n",
    "tree.plot_tree(fullClassTree, feature_names = X.columns, class_names = ['NC', 'C'])"
   ]
  },
  {
   "cell_type": "code",
   "execution_count": 56,
   "id": "bca7d6e0",
   "metadata": {},
   "outputs": [],
   "source": [
    "export_graphviz(fullClassTree, out_file = 'fullClassTree_v1.dot', feature_names = X_train.columns)"
   ]
  },
  {
   "attachments": {},
   "cell_type": "markdown",
   "id": "317b3533",
   "metadata": {},
   "source": [
    "Can visualize the .dot file by copying the text into: http://webgraphviz.com/"
   ]
  },
  {
   "cell_type": "code",
   "execution_count": 57,
   "id": "b28047e9",
   "metadata": {},
   "outputs": [
    {
     "data": {
      "text/plain": [
       "0.8808618504435995"
      ]
     },
     "execution_count": 57,
     "metadata": {},
     "output_type": "execute_result"
    }
   ],
   "source": [
    "#no limit on number of min_samples to see what we get, accuracy not too too much better\n",
    "fullClassTree_v2 = DecisionTreeClassifier(random_state = 42)\n",
    "fullClassTree_v2.fit(X_train, y_train)\n",
    "y_predicted = fullClassTree_v2.predict(X_test)\n",
    "fullClassTree_v2.score(X_test, y_test)"
   ]
  },
  {
   "cell_type": "code",
   "execution_count": 58,
   "id": "ee7dc9d6",
   "metadata": {},
   "outputs": [],
   "source": [
    "export_graphviz(fullClassTree_v2, out_file = 'fullClassTree_v2.dot', feature_names = X_train.columns)"
   ]
  },
  {
   "cell_type": "code",
   "execution_count": 59,
   "id": "eb71b4da",
   "metadata": {},
   "outputs": [
    {
     "name": "stdout",
     "output_type": "stream",
     "text": [
      "Confusion Matrix (Accuracy 0.9941)\n",
      "\n",
      "       Prediction\n",
      "Actual   0   1\n",
      "     0 547   0\n",
      "     1   7 629\n"
     ]
    }
   ],
   "source": [
    "classificationSummary(y_train, fullClassTree_v2.predict(X_train))"
   ]
  },
  {
   "cell_type": "markdown",
   "id": "29292b2d",
   "metadata": {},
   "source": [
    "Comparing the decision tree for having a limit of 50 observations in nodes in order to split them to having no restriction the accuracy is not much better, only 6 percent, probably because it overfits the training data as shown in the confusion matrix above with only 7 incorrect labels if no restrictions placed on min_sample_leafs"
   ]
  },
  {
   "cell_type": "markdown",
   "id": "2abd39b3",
   "metadata": {},
   "source": [
    "Describe interesting/unexpected and uninteresting (=rather obvious) information that these rules provide?\n",
    "Assuming we have the ClosePrice at time of auction, which we wouldn't\n",
    "- Splits were done mostly on continuous variables rather than the dummy variables included (i.e., OpenPrice, ClosePrice and SellerRating)\n",
    "- If the OpenPrice is less than 3.615 dollars then the sellerRating does not seem to matter in terms of auction competitiveness, buyers will go based on price\n",
    "- Items that close at less than 1.24 dollars are not competitive\n",
    "- SellerRating only matters on products that are priced above 3.615\n",
    "- General trend seems to be the cheaper it is the less competitive it is\n",
    "- ^above was done quickly, should look into it more"
   ]
  },
  {
   "cell_type": "markdown",
   "id": "e3d226dc",
   "metadata": {},
   "source": [
    "Suppose I had to slightly reduce the number of predictors due to software limitations or for clarity of\n",
    "presentation, which would be (a) good variable(s) to choose?\n",
    "- If I had to reduce the number of predictors I would probably go with just OpenPrice and SellerRating since these splits were early on splits meaning they likely have more ability to homogenize nodes. Would not include ClosePrice since this data is not available at time of auction posting"
   ]
  },
  {
   "cell_type": "markdown",
   "id": "a148711d",
   "metadata": {},
   "source": [
    "Is this model practical for predicting the outcome of a new auction?\n",
    "- No this model is not practical for predicting the outcome of a new auction since it depends on hte ClosePrice which will only become available after the auction has been completed and therefore predicting whether an auction will be competitive or not is no longer useful at that point. We want to predict whether an auction will be competitive or not when the auction is posted for new auctions."
   ]
  },
  {
   "cell_type": "code",
   "execution_count": 60,
   "id": "b2f2ff58",
   "metadata": {},
   "outputs": [],
   "source": [
    "X1 = ebay_df_final.drop(['ClosePrice', 'Competitive?'], axis = 1)\n",
    "y1 = ebay_df_final['Competitive?']"
   ]
  },
  {
   "cell_type": "code",
   "execution_count": 64,
   "id": "9a781b43",
   "metadata": {},
   "outputs": [],
   "source": [
    "X1_train, X1_test, y1_train, y1_test = train_test_split(X1, y1, test_size = 0.4, random_state = 42)"
   ]
  },
  {
   "cell_type": "code",
   "execution_count": 66,
   "id": "2d0f2050",
   "metadata": {},
   "outputs": [
    {
     "data": {
      "text/plain": [
       "0.7110266159695817"
      ]
     },
     "execution_count": 66,
     "metadata": {},
     "output_type": "execute_result"
    }
   ],
   "source": [
    "fullClassTree_noClosePrice = DecisionTreeClassifier(min_samples_leaf = 50, random_state = 42)\n",
    "fullClassTree_noClosePrice.fit(X1_train, y1_train)\n",
    "y_predicted = fullClassTree_noClosePrice.predict(X1_test)\n",
    "fullClassTree_noClosePrice.score(X1_test, y1_test)"
   ]
  },
  {
   "cell_type": "code",
   "execution_count": 70,
   "id": "399919ed",
   "metadata": {},
   "outputs": [
    {
     "name": "stdout",
     "output_type": "stream",
     "text": [
      "Confusion Matrix (Accuracy 0.7287)\n",
      "\n",
      "       Prediction\n",
      "Actual   0   1\n",
      "     0 363 184\n",
      "     1 137 499\n"
     ]
    }
   ],
   "source": [
    "# training data confusion matrix\n",
    "classificationSummary(y1_train, fullClassTree_noClosePrice.predict(X1_train))"
   ]
  },
  {
   "cell_type": "code",
   "execution_count": 71,
   "id": "6f29802b",
   "metadata": {},
   "outputs": [
    {
     "name": "stdout",
     "output_type": "stream",
     "text": [
      "Confusion Matrix (Accuracy 0.7110)\n",
      "\n",
      "       Prediction\n",
      "Actual   0   1\n",
      "     0 233 126\n",
      "     1 102 328\n"
     ]
    }
   ],
   "source": [
    "#testing data confusion matrix\n",
    "classificationSummary(y1_test, fullClassTree_noClosePrice.predict(X1_test))"
   ]
  },
  {
   "cell_type": "markdown",
   "id": "4f060bf7",
   "metadata": {},
   "source": [
    "So the accuracy gets worse for the test data, but also for the training data however it is a more realistic model for\n",
    "new auction competitiveness"
   ]
  },
  {
   "cell_type": "code",
   "execution_count": 68,
   "id": "88f57de8",
   "metadata": {},
   "outputs": [],
   "source": [
    "export_graphviz(fullClassTree_noClosePrice, out_file = 'fullClassTree_noClosePrice.dot', feature_names = X1_train.columns)"
   ]
  },
  {
   "cell_type": "markdown",
   "id": "22e56a70",
   "metadata": {},
   "source": [
    "Open fullClassTree_noClosePrice.dot and copy the text into http://webgraphviz.com/ to visualize the tree"
   ]
  },
  {
   "cell_type": "code",
   "execution_count": 91,
   "id": "6ab3d0a4",
   "metadata": {},
   "outputs": [
    {
     "name": "stderr",
     "output_type": "stream",
     "text": [
      "C:\\Users\\matth\\anaconda3\\lib\\site-packages\\seaborn\\_decorators.py:36: FutureWarning: Pass the following variables as keyword args: x, y. From version 0.12, the only valid positional argument will be `data`, and passing other arguments without an explicit keyword will result in an error or misinterpretation.\n",
      "  warnings.warn(\n"
     ]
    },
    {
     "data": {
      "text/plain": [
       "<AxesSubplot:xlabel='OpenPrice', ylabel='sellerRating'>"
      ]
     },
     "execution_count": 91,
     "metadata": {},
     "output_type": "execute_result"
    },
    {
     "data": {
      "image/png": "[encoded data removed]",
      "text/plain": [
       "<Figure size 1080x720 with 1 Axes>"
      ]
     },
     "metadata": {
      "needs_background": "light"
     },
     "output_type": "display_data"
    }
   ],
   "source": [
    "#create a scatterplot for two best quantitative predictors\n",
    "fig, ax = plt.subplots(figsize = ( 15 , 10 ))\n",
    "ax.set_xlim(-5,150) #ranges from 0 to 1000, however majority are fewer than 200, so will limit for visualizing\n",
    "ax.set_ylim(-5, 15000) #ranges from 0 to 35000+, put majority are less than 15000 so will limit for visualizing\n",
    "sns.scatterplot(ebay_df_final['OpenPrice'], ebay_df_final['sellerRating'], hue = ebay_df_final['Competitive?'])"
   ]
  },
  {
   "cell_type": "markdown",
   "id": "013aff3d",
   "metadata": {},
   "source": [
    "Interpreatation of above: Does the splitting seem reasonable with respect to the meaning of the two predictors? Does\n",
    "it seem to do a good job of separating the two classes?\n",
    "\n",
    "So looks like low sellerRating and low OpenPrice are more competitive, the interpreation of SellerRating still not sure\n",
    "Low price I could see why its competitive since people tend to purchase cheaper items on eBay, but I would thikn higher SellerRating means better seller quality\n",
    "Higher prices tend to be not as competitive it looks like (just barely), makes sense since it may be niche products that not many people are interested in buying\n",
    "\n",
    "I think it still isn't very distinct the splitting based on these two quantitative variables since there is quite a lot of overlap between competitive and not competitive auctions based on SellerRating and OpenPrice"
   ]
  },
  {
   "cell_type": "markdown",
   "id": "24c984f4",
   "metadata": {},
   "source": [
    "Examine the classification table for the tree. What can you say about the predictive performance of this model?\n",
    "It isn't great, test accuracy of about 71%, this is better than a naive model because the true rate is close to 50-50 in the training data set so it is a little better\n"
   ]
  }
 ],
 "metadata": {
  "kernelspec": {
   "display_name": "Python 3 (ipykernel)",
   "language": "python",
   "name": "python3"
  },
  "language_info": {
   "codemirror_mode": {
    "name": "ipython",
    "version": 3
   },
   "file_extension": ".py",
   "mimetype": "text/x-python",
   "name": "python",
   "nbconvert_exporter": "python",
   "pygments_lexer": "ipython3",
   "version": "3.9.7"
  }
 },
 "nbformat": 4,
 "nbformat_minor": 5
}
